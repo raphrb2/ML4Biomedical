{
  "cells": [
    {
      "cell_type": "markdown",
      "metadata": {
        "id": "f-5bYlDLL31Y",
        "outputId": "d3ad9389-0dd7-4464-ce61-2f11bd2e915b"
      },
      "source": [
        "##  Pytorch geometric\n",
        "\n",
        "Pytorch geometric is a pytorch package to train Graph Neural Networks.\n",
        "\n",
        "One \"simple\" architecture is the Graph Convolutional Network (kipf et al)\n",
        "\n",
        "references:\n",
        "- http://tkipf.github.io/graph-convolutional-networks/\n",
        "- https://proceedings.neurips.cc/paper/2015/hash/f9be311e65d81a9ad8150a60844bb94c-Abstract.html\n",
        "- https://arxiv.org/abs/1609.02907\n"
      ]
    },
    {
      "cell_type": "markdown",
      "source": [
        "##Imports"
      ],
      "metadata": {
        "id": "M4mqKPGgDw4H"
      }
    },
    {
      "cell_type": "code",
      "source": [
        "import rdkit\n",
        "import torch\n",
        "from torch_geometric.data import Data\n",
        "from torch_geometric.datasets import MoleculeNet\n",
        "import networkx as nx\n",
        "import torch_geometric.utils as utils\n",
        "from rdkit import Chem\n",
        "from rdkit.Chem import Draw\n",
        "import pandas as pd\n",
        "import matplotlib.pyplot as plt\n",
        "from torch_geometric.data import DataLoader\n",
        "from torch_geometric.nn import GCNConv\n",
        "from torch_geometric.nn import global_mean_pool\n",
        "from torch.optim import Adam\n",
        "from torch.nn import CrossEntropyLoss"
      ],
      "metadata": {
        "id": "9YX88_oaDwWy"
      },
      "execution_count": 134,
      "outputs": []
    },
    {
      "cell_type": "code",
      "source": [
        "from google.colab import drive\n",
        "drive.mount('/content/drive')"
      ],
      "metadata": {
        "colab": {
          "base_uri": "https://localhost:8080/"
        },
        "id": "9vihraFqF0_4",
        "outputId": "da4b82a2-4b71-4f2b-d9e6-6d653eb17026"
      },
      "execution_count": 102,
      "outputs": [
        {
          "output_type": "stream",
          "name": "stdout",
          "text": [
            "Drive already mounted at /content/drive; to attempt to forcibly remount, call drive.mount(\"/content/drive\", force_remount=True).\n"
          ]
        }
      ]
    },
    {
      "cell_type": "markdown",
      "metadata": {
        "id": "UUMvBxxuWXG4"
      },
      "source": [
        "Install pytorch geometric : https://pytorch-geometric.readthedocs.io/en/latest/"
      ]
    },
    {
      "cell_type": "code",
      "execution_count": 103,
      "metadata": {
        "id": "sHrzuqi7Mj2O",
        "colab": {
          "base_uri": "https://localhost:8080/"
        },
        "outputId": "e43e3fd5-0409-4f82-823f-7c6a7152b494"
      },
      "outputs": [
        {
          "output_type": "stream",
          "name": "stdout",
          "text": [
            "Requirement already satisfied: torch_geometric in /usr/local/lib/python3.10/dist-packages (2.3.1)\n",
            "Requirement already satisfied: tqdm in /usr/local/lib/python3.10/dist-packages (from torch_geometric) (4.66.1)\n",
            "Requirement already satisfied: numpy in /usr/local/lib/python3.10/dist-packages (from torch_geometric) (1.23.5)\n",
            "Requirement already satisfied: scipy in /usr/local/lib/python3.10/dist-packages (from torch_geometric) (1.11.2)\n",
            "Requirement already satisfied: jinja2 in /usr/local/lib/python3.10/dist-packages (from torch_geometric) (3.1.2)\n",
            "Requirement already satisfied: requests in /usr/local/lib/python3.10/dist-packages (from torch_geometric) (2.31.0)\n",
            "Requirement already satisfied: pyparsing in /usr/local/lib/python3.10/dist-packages (from torch_geometric) (3.1.1)\n",
            "Requirement already satisfied: scikit-learn in /usr/local/lib/python3.10/dist-packages (from torch_geometric) (1.2.2)\n",
            "Requirement already satisfied: psutil>=5.8.0 in /usr/local/lib/python3.10/dist-packages (from torch_geometric) (5.9.5)\n",
            "Requirement already satisfied: MarkupSafe>=2.0 in /usr/local/lib/python3.10/dist-packages (from jinja2->torch_geometric) (2.1.3)\n",
            "Requirement already satisfied: charset-normalizer<4,>=2 in /usr/local/lib/python3.10/dist-packages (from requests->torch_geometric) (3.2.0)\n",
            "Requirement already satisfied: idna<4,>=2.5 in /usr/local/lib/python3.10/dist-packages (from requests->torch_geometric) (3.4)\n",
            "Requirement already satisfied: urllib3<3,>=1.21.1 in /usr/local/lib/python3.10/dist-packages (from requests->torch_geometric) (2.0.4)\n",
            "Requirement already satisfied: certifi>=2017.4.17 in /usr/local/lib/python3.10/dist-packages (from requests->torch_geometric) (2023.7.22)\n",
            "Requirement already satisfied: joblib>=1.1.1 in /usr/local/lib/python3.10/dist-packages (from scikit-learn->torch_geometric) (1.3.2)\n",
            "Requirement already satisfied: threadpoolctl>=2.0.0 in /usr/local/lib/python3.10/dist-packages (from scikit-learn->torch_geometric) (3.2.0)\n",
            "Requirement already satisfied: rdkit in /usr/local/lib/python3.10/dist-packages (2023.3.3)\n",
            "Requirement already satisfied: numpy in /usr/local/lib/python3.10/dist-packages (from rdkit) (1.23.5)\n",
            "Requirement already satisfied: Pillow in /usr/local/lib/python3.10/dist-packages (from rdkit) (9.4.0)\n"
          ]
        }
      ],
      "source": [
        "!pip install torch_geometric\n",
        "!pip install rdkit"
      ]
    },
    {
      "cell_type": "markdown",
      "metadata": {
        "id": "Q6bXT9FWWXG6"
      },
      "source": [
        "Simple graphs are manipulated with the torch_geometric.data.Data class : https://pytorch-geometric.readthedocs.io/en/latest/modules/data.html#torch_geometric.data.Data\n",
        "\n",
        "The constructor takes a collection a tensor representing the nodes and a tensor representing the edges.\n",
        "\n",
        "Edges are represented by a 2D tensor (cf example here : https://pytorch-geometric.readthedocs.io/en/latest/notes/introduction.html) where each columns represents an edge.\n",
        "\n",
        "\n",
        "Create a simple undirected Graph with three nodes where node 1 is connected to node 2 and 3.\n",
        "Specify the node values to be 1, 2, 3"
      ]
    },
    {
      "cell_type": "code",
      "execution_count": 104,
      "metadata": {
        "id": "PHn3Y5SkWXG8"
      },
      "outputs": [],
      "source": [
        "edge_index = torch.tensor([[1, 2, 2, 3],\n",
        "                            [2, 1, 3, 2]], dtype=torch.long)\n",
        "x = torch.tensor([[1], [2], [3]], dtype=torch.float)\n",
        "\n",
        "data = Data(x=x, edge_index=edge_index)"
      ]
    },
    {
      "cell_type": "markdown",
      "metadata": {
        "id": "clynGmCNNrCF"
      },
      "source": [
        "# 1. Explore dataset in Pytorch_geometric\n",
        "\n",
        "\n",
        "To better understand molecule and graph, we will load and explore one of the molecule datasets that come from the pytorch_geometric library.\n",
        "\n",
        "1. Load the HIV dataset from the torch_geometric.datasets.MoleculeNet module.\n"
      ]
    },
    {
      "cell_type": "code",
      "execution_count": 105,
      "metadata": {
        "id": "tzbY2RjgOQdo"
      },
      "outputs": [],
      "source": [
        "dataset = MoleculeNet(root='/tmp/HIV', name='HIV')"
      ]
    },
    {
      "cell_type": "markdown",
      "metadata": {
        "id": "PMJfbFG2WXG9"
      },
      "source": [
        "\n",
        "2. How many graphs are there in this dataset ? Print out the number of features and the number of classes for this dataset."
      ]
    },
    {
      "cell_type": "code",
      "execution_count": 106,
      "metadata": {
        "id": "53u0fhbFWXG-",
        "colab": {
          "base_uri": "https://localhost:8080/"
        },
        "outputId": "7e8373b7-c9cc-4a5c-b53c-8401a0a6dc62"
      },
      "outputs": [
        {
          "output_type": "execute_result",
          "data": {
            "text/plain": [
              "41127"
            ]
          },
          "metadata": {},
          "execution_count": 106
        }
      ],
      "source": [
        "len(dataset)"
      ]
    },
    {
      "cell_type": "markdown",
      "metadata": {
        "id": "38afm3ObWXG-"
      },
      "source": [
        "3. Get the first graph in this dataset. Print out the number of nodes, the number of edges, the number of features and  the adjency matrix of this graph. This graph is undirected or not ?"
      ]
    },
    {
      "cell_type": "code",
      "source": [
        "dataset[0]"
      ],
      "metadata": {
        "colab": {
          "base_uri": "https://localhost:8080/"
        },
        "id": "e9BaCxRsAmtj",
        "outputId": "9ff28ca6-5842-4e98-c248-ed82ebe90041"
      },
      "execution_count": 107,
      "outputs": [
        {
          "output_type": "execute_result",
          "data": {
            "text/plain": [
              "Data(x=[19, 9], edge_index=[2, 40], edge_attr=[40, 3], smiles='CCC1=[O+][Cu-3]2([O+]=C(CC)C1)[O+]=C(CC)CC(CC)=[O+]2', y=[1, 1])"
            ]
          },
          "metadata": {},
          "execution_count": 107
        }
      ]
    },
    {
      "cell_type": "code",
      "execution_count": 108,
      "metadata": {
        "id": "61YCHLYEWXG_",
        "colab": {
          "base_uri": "https://localhost:8080/"
        },
        "outputId": "cb000e6a-e7e4-44bc-8042-8c36954b4948"
      },
      "outputs": [
        {
          "output_type": "stream",
          "name": "stdout",
          "text": [
            "Number of nodes:  19\n",
            "Number of edges:  40\n",
            "Number of features:  9\n",
            "Ajdacency Matrix:  tensor([[ 0,  1,  1,  2,  2,  2,  3,  3,  4,  4,  4,  4,  5,  5,  6,  6,  6,  7,\n",
            "          7,  8,  9,  9, 10, 10, 11, 11, 11, 12, 12, 13, 14, 14, 15, 15, 15, 16,\n",
            "         16, 17, 18, 18],\n",
            "        [ 1,  0,  2,  1,  3,  9,  2,  4,  3,  5, 10, 18,  4,  6,  5,  7,  9,  6,\n",
            "          8,  7,  2,  6,  4, 11, 10, 12, 14, 11, 13, 12, 11, 15, 14, 16, 18, 15,\n",
            "         17, 16,  4, 15]])\n"
          ]
        }
      ],
      "source": [
        "print(\"Number of nodes: \", dataset[0].num_nodes)\n",
        "print(\"Number of edges: \", dataset[0].num_edges)\n",
        "# number of features of the graph\n",
        "print(\"Number of features: \", dataset[0].num_node_features)\n",
        "print(\"Ajdacency Matrix: \", dataset[0].edge_index)"
      ]
    },
    {
      "cell_type": "markdown",
      "metadata": {
        "id": "NyQUnzcTWXG_"
      },
      "source": [
        "4. Draw this graph using networkx (it's already installed with pytorch_geometric) and torch_geometric.utils.to_networkx.\n"
      ]
    },
    {
      "cell_type": "code",
      "execution_count": 109,
      "metadata": {
        "id": "SuqnN7yeWXHA",
        "colab": {
          "base_uri": "https://localhost:8080/",
          "height": 516
        },
        "outputId": "71afa165-6ad2-4bdd-cfd6-559bdbdd93ed"
      },
      "outputs": [
        {
          "output_type": "display_data",
          "data": {
            "text/plain": [
              "<Figure size 640x480 with 1 Axes>"
            ],
            "image/png": "[encoded data removed]"
          },
          "metadata": {}
        }
      ],
      "source": [
        "G = utils.to_networkx(dataset[0])\n",
        "\n",
        "nx.draw(G, with_labels=True)"
      ]
    },
    {
      "cell_type": "markdown",
      "metadata": {
        "id": "W0dbGDEOWXHA"
      },
      "source": [
        "5. (Optional) Get the SMILES string of this molecule and draw its structure with Rdkit. The structure of this molecule looks like the graph that you've drawn in 4. ?"
      ]
    },
    {
      "cell_type": "code",
      "execution_count": 110,
      "metadata": {
        "id": "BZ_Ij6KKWXHA",
        "colab": {
          "base_uri": "https://localhost:8080/",
          "height": 317
        },
        "outputId": "6f9325b1-6dc2-4964-f6ea-45338b811390"
      },
      "outputs": [
        {
          "output_type": "execute_result",
          "data": {
            "text/plain": [
              "<PIL.PngImagePlugin.PngImageFile image mode=RGB size=300x300>"
            ],
            "image/png": "[encoded data removed]"
          },
          "metadata": {},
          "execution_count": 110
        }
      ],
      "source": [
        "smiles = dataset[0].smiles\n",
        "mol = Chem.MolFromSmiles(smiles)\n",
        "Draw.MolToImage(mol)"
      ]
    },
    {
      "cell_type": "markdown",
      "metadata": {
        "id": "a5QV7llwgk6v"
      },
      "source": [
        "# EX 2. Convert a molecule to graph\n",
        "\n",
        "A single graph in PyTorch Geometric is described by an instance of the torch_geometric.data.Data class. So, in order to use graph neural network in pytorch_geometric,  we need convert molecules to torch_geometric.data.Data object.\n",
        "\n",
        "\n",
        "The **mol2graph(mol, y, smiles)** function below allows us to convert a molecule (rdkit format) to graph (a torch_geometric.data.Data object).\n",
        "\n",
        "\n",
        "Just load the tab"
      ]
    },
    {
      "cell_type": "code",
      "execution_count": 111,
      "metadata": {
        "id": "Qd4weA8-fn3X"
      },
      "outputs": [],
      "source": [
        "x_map = {\n",
        "    'atomic_num':\n",
        "    list(range(0, 119)),\n",
        "    'chirality': [\n",
        "        'CHI_UNSPECIFIED',\n",
        "        'CHI_TETRAHEDRAL_CW',\n",
        "        'CHI_TETRAHEDRAL_CCW',\n",
        "        'CHI_OTHER',\n",
        "    ],\n",
        "    'degree':\n",
        "    list(range(0, 11)),\n",
        "    'formal_charge':\n",
        "    list(range(-5, 7)),\n",
        "    'num_hs':\n",
        "    list(range(0, 9)),\n",
        "    'num_radical_electrons':\n",
        "    list(range(0, 5)),\n",
        "    'hybridization': [\n",
        "        'UNSPECIFIED',\n",
        "        'S',\n",
        "        'SP',\n",
        "        'SP2',\n",
        "        'SP3',\n",
        "        'SP3D',\n",
        "        'SP3D2',\n",
        "        'OTHER',\n",
        "    ],\n",
        "    'is_aromatic': [False, True],\n",
        "    'is_in_ring': [False, True],\n",
        "}\n",
        "\n",
        "\n",
        "\n",
        "\n",
        "e_map = {\n",
        "    'bond_type': [\n",
        "        'misc',\n",
        "        'SINGLE',\n",
        "        'DOUBLE',\n",
        "        'TRIPLE',\n",
        "        'AROMATIC',\n",
        "    ],\n",
        "    'stereo': [\n",
        "        'STEREONONE',\n",
        "        'STEREOZ',\n",
        "        'STEREOE',\n",
        "        'STEREOCIS',\n",
        "        'STEREOTRANS',\n",
        "        'STEREOANY',\n",
        "    ],\n",
        "    'is_conjugated': [False, True],\n",
        "}\n",
        "\n",
        "\n",
        "def mol2graph(mol, y, smiles):\n",
        "\n",
        "    from torch_geometric.data import Data\n",
        "    import torch\n",
        "    import torch_geometric\n",
        "\n",
        "\n",
        "    xs = []\n",
        "\n",
        "    for atom in mol.GetAtoms():\n",
        "\n",
        "        x = []\n",
        "\n",
        "        x.append(x_map['atomic_num'].index(atom.GetAtomicNum()))\n",
        "        # The atomic number is the number of protons in the nucleus of an atom\n",
        "\n",
        "        x.append(x_map['chirality'].index(str(atom.GetChiralTag())))\n",
        "\n",
        "        x.append(x_map['degree'].index(atom.GetTotalDegree()))\n",
        "        # the number of carbon atoms that this atom is attached to\n",
        "\n",
        "        x.append(x_map['formal_charge'].index(atom.GetFormalCharge()))\n",
        "        x.append(x_map['num_hs'].index(atom.GetTotalNumHs()))\n",
        "        x.append(x_map['num_radical_electrons'].index(\n",
        "            atom.GetNumRadicalElectrons()))\n",
        "        x.append(x_map['hybridization'].index(str(atom.GetHybridization())))\n",
        "        x.append(x_map['is_aromatic'].index(atom.GetIsAromatic()))\n",
        "        x.append(x_map['is_in_ring'].index(atom.IsInRing()))\n",
        "\n",
        "        xs.append(x)\n",
        "\n",
        "\n",
        "\n",
        "    x = torch.tensor(xs, dtype=torch.float).view(-1, 9)\n",
        "\n",
        "    #print(\"x\", x)\n",
        "\n",
        "    edge_indices, edge_attrs = [], []\n",
        "    for bond in mol.GetBonds():\n",
        "        i = bond.GetBeginAtomIdx()\n",
        "        j = bond.GetEndAtomIdx()\n",
        "\n",
        "        e = []\n",
        "        e.append(e_map['bond_type'].index(str(bond.GetBondType())))\n",
        "        e.append(e_map['stereo'].index(str(bond.GetStereo())))\n",
        "        e.append(e_map['is_conjugated'].index(bond.GetIsConjugated()))\n",
        "\n",
        "        edge_indices += [[i, j], [j, i]]\n",
        "        edge_attrs += [e, e]\n",
        "\n",
        "    edge_index = torch.tensor(edge_indices)\n",
        "    edge_index = edge_index.t().to(torch.long).view(2, -1)\n",
        "    edge_attr = torch.tensor(edge_attrs, dtype=torch.long).view(-1, 3)\n",
        "\n",
        "    # Sort indices.\n",
        "    y = torch.tensor(y, dtype=torch.long)\n",
        "\n",
        "    if edge_index.numel() > 0:\n",
        "        perm = (edge_index[0] * x.size(0) + edge_index[1]).argsort()\n",
        "        edge_index, edge_attr = edge_index[:, perm], edge_attr[perm]\n",
        "\n",
        "    data = Data(x=x, edge_index=edge_index, edge_attr=edge_attr, y = y, smiles=smiles)\n",
        "\n",
        "    return data\n"
      ]
    },
    {
      "cell_type": "markdown",
      "metadata": {
        "id": "gvPjMDsXWXHC"
      },
      "source": [
        "1. Use this function to convert a acetic acid molecule to graph. This function takes three parametes as inputs: rdkit molecule (mol), label of graph (here molecule is active or not) (y) and SMILES string of molecule.  Known that the SMILES string of acetic acid is \"CC(O)=O\" and you can choose in this case the label y = 1.\n",
        "\n",
        "\n",
        "2. How many features are there in the nodes ? What are they ? Print out the \"edge_index\" of the acetic acide graph.\n"
      ]
    },
    {
      "cell_type": "code",
      "execution_count": 112,
      "metadata": {
        "id": "jWDK8zIzmUtE"
      },
      "outputs": [],
      "source": [
        "smiles_acetic_acid = \"CC(O)=O\"\n",
        "mol = rdkit.Chem.MolFromSmiles(smiles_acetic_acid)\n",
        "\n",
        "#convert the mol to a graph\n",
        "data = mol2graph(mol, [0], smiles_acetic_acid)"
      ]
    },
    {
      "cell_type": "code",
      "source": [
        "print(\"Number of features in the node: \", data.num_node_features)"
      ],
      "metadata": {
        "colab": {
          "base_uri": "https://localhost:8080/"
        },
        "id": "Yq2OrGaJE-LT",
        "outputId": "92666472-a511-4c69-c4f1-86a4b4054da2"
      },
      "execution_count": 113,
      "outputs": [
        {
          "output_type": "stream",
          "name": "stdout",
          "text": [
            "Number of features in the node:  9\n"
          ]
        }
      ]
    },
    {
      "cell_type": "markdown",
      "metadata": {
        "id": "i58VGkbqxdgk"
      },
      "source": [
        "# Buid a Graph Neural Network (GNN)\n",
        "\n",
        " In the next exercises of this notebook, we will try to build a graph network to predict the ability of molecules to inhibit a protein known as ERK2. For this purpose, we will use compounds that are derived from the DUD-E database."
      ]
    },
    {
      "cell_type": "markdown",
      "metadata": {
        "id": "uWlmiF0yn1oV"
      },
      "source": [
        "#Ex 3: Create dataset\n",
        "\n",
        "The file named \"active_data.csv\" consists of more than 300 active and decoy molecules. The dataset is made of two components:\n",
        "\n",
        "-  Chemical structural data on compounds: each chemical compound is described under the SMILES format.\n",
        "\n",
        "-  ERK2-activity : it corresponds to the screening result evaluating the activity (1) or the inactivity (0) of the chemical compound.\n",
        "\n",
        "\n",
        "1. Read the \"active_data.csv\" file into a pandas dataframe. Are there how many active molecules and how many decoy molecules?\n",
        "\n",
        "\n"
      ]
    },
    {
      "cell_type": "code",
      "execution_count": 114,
      "metadata": {
        "id": "9uDVldMnmp4X"
      },
      "outputs": [],
      "source": [
        "df = pd.read_csv('/content/drive/My Drive/data/active_data.csv')"
      ]
    },
    {
      "cell_type": "code",
      "source": [
        "df.head()"
      ],
      "metadata": {
        "colab": {
          "base_uri": "https://localhost:8080/",
          "height": 206
        },
        "id": "mTKPVRTQGtUy",
        "outputId": "361def94-6d8a-4708-8a37-b122152b50fd"
      },
      "execution_count": 115,
      "outputs": [
        {
          "output_type": "execute_result",
          "data": {
            "text/plain": [
              "                                              SMILES      ID  is_active\n",
              "0  Cn1ccnc1Sc2ccc(cc2Cl)Nc3c4cc(c(cc4ncc3C#N)OCCC...  168691          1\n",
              "1  C[C@@]12[C@@H]([C@@H](CC(O1)n3c4ccccc4c5c3c6n2...   86358          1\n",
              "2  Cc1cnc(nc1c2cc([nH]c2)C(=O)N[C@H](CO)c3cccc(c3...  575087          1\n",
              "3  Cc1cnc(nc1c2cc([nH]c2)C(=O)N[C@H](CO)c3cccc(c3...  575065          1\n",
              "4  Cc1cnc(nc1c2cc([nH]c2)C(=O)N[C@H](CO)c3cccc(c3...  575047          1"
            ],
            "text/html": [
              "\n",
              "  <div id=\"df-7c39bd81-c541-4b65-8a27-e0147624f7a8\" class=\"colab-df-container\">\n",
              "    <div>\n",
              "<style scoped>\n",
              "    .dataframe tbody tr th:only-of-type {\n",
              "        vertical-align: middle;\n",
              "    }\n",
              "\n",
              "    .dataframe tbody tr th {\n",
              "        vertical-align: top;\n",
              "    }\n",
              "\n",
              "    .dataframe thead th {\n",
              "        text-align: right;\n",
              "    }\n",
              "</style>\n",
              "<table border=\"1\" class=\"dataframe\">\n",
              "  <thead>\n",
              "    <tr style=\"text-align: right;\">\n",
              "      <th></th>\n",
              "      <th>SMILES</th>\n",
              "      <th>ID</th>\n",
              "      <th>is_active</th>\n",
              "    </tr>\n",
              "  </thead>\n",
              "  <tbody>\n",
              "    <tr>\n",
              "      <th>0</th>\n",
              "      <td>Cn1ccnc1Sc2ccc(cc2Cl)Nc3c4cc(c(cc4ncc3C#N)OCCC...</td>\n",
              "      <td>168691</td>\n",
              "      <td>1</td>\n",
              "    </tr>\n",
              "    <tr>\n",
              "      <th>1</th>\n",
              "      <td>C[C@@]12[C@@H]([C@@H](CC(O1)n3c4ccccc4c5c3c6n2...</td>\n",
              "      <td>86358</td>\n",
              "      <td>1</td>\n",
              "    </tr>\n",
              "    <tr>\n",
              "      <th>2</th>\n",
              "      <td>Cc1cnc(nc1c2cc([nH]c2)C(=O)N[C@H](CO)c3cccc(c3...</td>\n",
              "      <td>575087</td>\n",
              "      <td>1</td>\n",
              "    </tr>\n",
              "    <tr>\n",
              "      <th>3</th>\n",
              "      <td>Cc1cnc(nc1c2cc([nH]c2)C(=O)N[C@H](CO)c3cccc(c3...</td>\n",
              "      <td>575065</td>\n",
              "      <td>1</td>\n",
              "    </tr>\n",
              "    <tr>\n",
              "      <th>4</th>\n",
              "      <td>Cc1cnc(nc1c2cc([nH]c2)C(=O)N[C@H](CO)c3cccc(c3...</td>\n",
              "      <td>575047</td>\n",
              "      <td>1</td>\n",
              "    </tr>\n",
              "  </tbody>\n",
              "</table>\n",
              "</div>\n",
              "    <div class=\"colab-df-buttons\">\n",
              "\n",
              "  <div class=\"colab-df-container\">\n",
              "    <button class=\"colab-df-convert\" onclick=\"convertToInteractive('df-7c39bd81-c541-4b65-8a27-e0147624f7a8')\"\n",
              "            title=\"Convert this dataframe to an interactive table.\"\n",
              "            style=\"display:none;\">\n",
              "\n",
              "  <svg xmlns=\"http://www.w3.org/2000/svg\" height=\"24px\" viewBox=\"0 -960 960 960\">\n",
              "    <path d=\"M120-120v-720h720v720H120Zm60-500h600v-160H180v160Zm220 220h160v-160H400v160Zm0 220h160v-160H400v160ZM180-400h160v-160H180v160Zm440 0h160v-160H620v160ZM180-180h160v-160H180v160Zm440 0h160v-160H620v160Z\"/>\n",
              "  </svg>\n",
              "    </button>\n",
              "\n",
              "  <style>\n",
              "    .colab-df-container {\n",
              "      display:flex;\n",
              "      gap: 12px;\n",
              "    }\n",
              "\n",
              "    .colab-df-convert {\n",
              "      background-color: #E8F0FE;\n",
              "      border: none;\n",
              "      border-radius: 50%;\n",
              "      cursor: pointer;\n",
              "      display: none;\n",
              "      fill: #1967D2;\n",
              "      height: 32px;\n",
              "      padding: 0 0 0 0;\n",
              "      width: 32px;\n",
              "    }\n",
              "\n",
              "    .colab-df-convert:hover {\n",
              "      background-color: #E2EBFA;\n",
              "      box-shadow: 0px 1px 2px rgba(60, 64, 67, 0.3), 0px 1px 3px 1px rgba(60, 64, 67, 0.15);\n",
              "      fill: #174EA6;\n",
              "    }\n",
              "\n",
              "    .colab-df-buttons div {\n",
              "      margin-bottom: 4px;\n",
              "    }\n",
              "\n",
              "    [theme=dark] .colab-df-convert {\n",
              "      background-color: #3B4455;\n",
              "      fill: #D2E3FC;\n",
              "    }\n",
              "\n",
              "    [theme=dark] .colab-df-convert:hover {\n",
              "      background-color: #434B5C;\n",
              "      box-shadow: 0px 1px 3px 1px rgba(0, 0, 0, 0.15);\n",
              "      filter: drop-shadow(0px 1px 2px rgba(0, 0, 0, 0.3));\n",
              "      fill: #FFFFFF;\n",
              "    }\n",
              "  </style>\n",
              "\n",
              "    <script>\n",
              "      const buttonEl =\n",
              "        document.querySelector('#df-7c39bd81-c541-4b65-8a27-e0147624f7a8 button.colab-df-convert');\n",
              "      buttonEl.style.display =\n",
              "        google.colab.kernel.accessAllowed ? 'block' : 'none';\n",
              "\n",
              "      async function convertToInteractive(key) {\n",
              "        const element = document.querySelector('#df-7c39bd81-c541-4b65-8a27-e0147624f7a8');\n",
              "        const dataTable =\n",
              "          await google.colab.kernel.invokeFunction('convertToInteractive',\n",
              "                                                    [key], {});\n",
              "        if (!dataTable) return;\n",
              "\n",
              "        const docLinkHtml = 'Like what you see? Visit the ' +\n",
              "          '<a target=\"_blank\" href=https://colab.research.google.com/notebooks/data_table.ipynb>data table notebook</a>'\n",
              "          + ' to learn more about interactive tables.';\n",
              "        element.innerHTML = '';\n",
              "        dataTable['output_type'] = 'display_data';\n",
              "        await google.colab.output.renderOutput(dataTable, element);\n",
              "        const docLink = document.createElement('div');\n",
              "        docLink.innerHTML = docLinkHtml;\n",
              "        element.appendChild(docLink);\n",
              "      }\n",
              "    </script>\n",
              "  </div>\n",
              "\n",
              "\n",
              "<div id=\"df-008ce43c-d49e-400c-800a-e7e4d2491f84\">\n",
              "  <button class=\"colab-df-quickchart\" onclick=\"quickchart('df-008ce43c-d49e-400c-800a-e7e4d2491f84')\"\n",
              "            title=\"Suggest charts.\"\n",
              "            style=\"display:none;\">\n",
              "\n",
              "<svg xmlns=\"http://www.w3.org/2000/svg\" height=\"24px\"viewBox=\"0 0 24 24\"\n",
              "     width=\"24px\">\n",
              "    <g>\n",
              "        <path d=\"M19 3H5c-1.1 0-2 .9-2 2v14c0 1.1.9 2 2 2h14c1.1 0 2-.9 2-2V5c0-1.1-.9-2-2-2zM9 17H7v-7h2v7zm4 0h-2V7h2v10zm4 0h-2v-4h2v4z\"/>\n",
              "    </g>\n",
              "</svg>\n",
              "  </button>\n",
              "\n",
              "<style>\n",
              "  .colab-df-quickchart {\n",
              "      --bg-color: #E8F0FE;\n",
              "      --fill-color: #1967D2;\n",
              "      --hover-bg-color: #E2EBFA;\n",
              "      --hover-fill-color: #174EA6;\n",
              "      --disabled-fill-color: #AAA;\n",
              "      --disabled-bg-color: #DDD;\n",
              "  }\n",
              "\n",
              "  [theme=dark] .colab-df-quickchart {\n",
              "      --bg-color: #3B4455;\n",
              "      --fill-color: #D2E3FC;\n",
              "      --hover-bg-color: #434B5C;\n",
              "      --hover-fill-color: #FFFFFF;\n",
              "      --disabled-bg-color: #3B4455;\n",
              "      --disabled-fill-color: #666;\n",
              "  }\n",
              "\n",
              "  .colab-df-quickchart {\n",
              "    background-color: var(--bg-color);\n",
              "    border: none;\n",
              "    border-radius: 50%;\n",
              "    cursor: pointer;\n",
              "    display: none;\n",
              "    fill: var(--fill-color);\n",
              "    height: 32px;\n",
              "    padding: 0;\n",
              "    width: 32px;\n",
              "  }\n",
              "\n",
              "  .colab-df-quickchart:hover {\n",
              "    background-color: var(--hover-bg-color);\n",
              "    box-shadow: 0 1px 2px rgba(60, 64, 67, 0.3), 0 1px 3px 1px rgba(60, 64, 67, 0.15);\n",
              "    fill: var(--button-hover-fill-color);\n",
              "  }\n",
              "\n",
              "  .colab-df-quickchart-complete:disabled,\n",
              "  .colab-df-quickchart-complete:disabled:hover {\n",
              "    background-color: var(--disabled-bg-color);\n",
              "    fill: var(--disabled-fill-color);\n",
              "    box-shadow: none;\n",
              "  }\n",
              "\n",
              "  .colab-df-spinner {\n",
              "    border: 2px solid var(--fill-color);\n",
              "    border-color: transparent;\n",
              "    border-bottom-color: var(--fill-color);\n",
              "    animation:\n",
              "      spin 1s steps(1) infinite;\n",
              "  }\n",
              "\n",
              "  @keyframes spin {\n",
              "    0% {\n",
              "      border-color: transparent;\n",
              "      border-bottom-color: var(--fill-color);\n",
              "      border-left-color: var(--fill-color);\n",
              "    }\n",
              "    20% {\n",
              "      border-color: transparent;\n",
              "      border-left-color: var(--fill-color);\n",
              "      border-top-color: var(--fill-color);\n",
              "    }\n",
              "    30% {\n",
              "      border-color: transparent;\n",
              "      border-left-color: var(--fill-color);\n",
              "      border-top-color: var(--fill-color);\n",
              "      border-right-color: var(--fill-color);\n",
              "    }\n",
              "    40% {\n",
              "      border-color: transparent;\n",
              "      border-right-color: var(--fill-color);\n",
              "      border-top-color: var(--fill-color);\n",
              "    }\n",
              "    60% {\n",
              "      border-color: transparent;\n",
              "      border-right-color: var(--fill-color);\n",
              "    }\n",
              "    80% {\n",
              "      border-color: transparent;\n",
              "      border-right-color: var(--fill-color);\n",
              "      border-bottom-color: var(--fill-color);\n",
              "    }\n",
              "    90% {\n",
              "      border-color: transparent;\n",
              "      border-bottom-color: var(--fill-color);\n",
              "    }\n",
              "  }\n",
              "</style>\n",
              "\n",
              "  <script>\n",
              "    async function quickchart(key) {\n",
              "      const quickchartButtonEl =\n",
              "        document.querySelector('#' + key + ' button');\n",
              "      quickchartButtonEl.disabled = true;  // To prevent multiple clicks.\n",
              "      quickchartButtonEl.classList.add('colab-df-spinner');\n",
              "      try {\n",
              "        const charts = await google.colab.kernel.invokeFunction(\n",
              "            'suggestCharts', [key], {});\n",
              "      } catch (error) {\n",
              "        console.error('Error during call to suggestCharts:', error);\n",
              "      }\n",
              "      quickchartButtonEl.classList.remove('colab-df-spinner');\n",
              "      quickchartButtonEl.classList.add('colab-df-quickchart-complete');\n",
              "    }\n",
              "    (() => {\n",
              "      let quickchartButtonEl =\n",
              "        document.querySelector('#df-008ce43c-d49e-400c-800a-e7e4d2491f84 button');\n",
              "      quickchartButtonEl.style.display =\n",
              "        google.colab.kernel.accessAllowed ? 'block' : 'none';\n",
              "    })();\n",
              "  </script>\n",
              "</div>\n",
              "    </div>\n",
              "  </div>\n"
            ]
          },
          "metadata": {},
          "execution_count": 115
        }
      ]
    },
    {
      "cell_type": "code",
      "source": [
        "print(\"Number of active molecules: \", len(df[df['is_active'] == 1]))\n",
        "print(\"Number of decoy molecules: \", len(df[df['is_active'] == 0]))"
      ],
      "metadata": {
        "colab": {
          "base_uri": "https://localhost:8080/"
        },
        "id": "zuM6CdBnHCoC",
        "outputId": "9cb6dc9d-3f25-43cb-ce7e-87b3cf544029"
      },
      "execution_count": 116,
      "outputs": [
        {
          "output_type": "stream",
          "name": "stdout",
          "text": [
            "Number of active molecules:  79\n",
            "Number of decoy molecules:  300\n"
          ]
        }
      ]
    },
    {
      "cell_type": "markdown",
      "source": [
        "2. From this dataframe, create a list of RDKit molecules."
      ],
      "metadata": {
        "id": "nz-ih4zgIyQI"
      }
    },
    {
      "cell_type": "code",
      "source": [
        "mols = [Chem.MolFromSmiles(s) for s in df['SMILES']]\n",
        "print(\"Number of molecules: \", len(mols))"
      ],
      "metadata": {
        "colab": {
          "base_uri": "https://localhost:8080/"
        },
        "id": "ee1B6ZDuHUmT",
        "outputId": "12c9b452-1767-44f3-d841-09871abca1a4"
      },
      "execution_count": 117,
      "outputs": [
        {
          "output_type": "stream",
          "name": "stdout",
          "text": [
            "Number of molecules:  379\n"
          ]
        }
      ]
    },
    {
      "cell_type": "markdown",
      "source": [
        "3. Using the mol2graph(mol, y, smiles) function to convert the list of Rdkit molecules to a list of torch_geometric.data.Data objects. You should call this list as \"list_data\".\n"
      ],
      "metadata": {
        "id": "25e2bupfImUE"
      }
    },
    {
      "cell_type": "code",
      "source": [
        "list_data = [mol2graph(mol, [y], smiles) for mol, y, smiles in zip(mols, df['is_active'], df['SMILES'])]"
      ],
      "metadata": {
        "id": "2OcwOeoWIcYG"
      },
      "execution_count": 118,
      "outputs": []
    },
    {
      "cell_type": "markdown",
      "source": [
        "4. Plot the histogram to see the ratio between the  compounds active and inactive."
      ],
      "metadata": {
        "id": "GHt_LCyFI58j"
      }
    },
    {
      "cell_type": "code",
      "source": [
        "plt.hist(df['is_active'], color='green')\n",
        "plt.title(\"Histogram of the active and inactive compounds\")\n",
        "plt.xlabel(\"Active or inactive\")\n",
        "plt.ylabel(\"Number\")\n",
        "plt.xticks([0, 1], ['Inactive', 'Active'])\n",
        "plt.show()"
      ],
      "metadata": {
        "colab": {
          "base_uri": "https://localhost:8080/",
          "height": 472
        },
        "id": "_6Q0Ds5AI7O2",
        "outputId": "828b04ed-2897-421e-9b50-e178edf5dfda"
      },
      "execution_count": 119,
      "outputs": [
        {
          "output_type": "display_data",
          "data": {
            "text/plain": [
              "<Figure size 640x480 with 1 Axes>"
            ],
            "image/png": "[encoded data removed]"
          },
          "metadata": {}
        }
      ]
    },
    {
      "cell_type": "markdown",
      "metadata": {
        "id": "WAyN3trZ5kum"
      },
      "source": [
        "# EX 4. Create training set and test set\n",
        "In this exercise, we will prepare a training set and a test set.\n",
        "\n",
        "1. Shuffle the \"list_data\" list that you've created above.\n",
        "\n",
        "2. Take the first 300 molecules for \"train_dataset\" and the rest for \"test_dataset\".\n"
      ]
    },
    {
      "cell_type": "code",
      "execution_count": 120,
      "metadata": {
        "id": "N5BbkGyk5yBA"
      },
      "outputs": [],
      "source": [
        "import random\n",
        "\n",
        "random.seed(123)\n",
        "random.shuffle(list_data)\n",
        "\n",
        "train_dataset = list_data[:300]\n",
        "test_dataset = list_data[300:]"
      ]
    },
    {
      "cell_type": "markdown",
      "metadata": {
        "id": "lRfuRXtiIHvo"
      },
      "source": [
        "# Ex5: Create DataLoader\n",
        "\n",
        "Usually a graph classification task trains on a lot of graphs, and it will be very inefficient to use only one graph at a time when training the model.\n",
        "\n",
        "Pytorch Geometric opts for building a single giant graph from a list of graphs by stacking adjacency matrices in a diagonal fashion and node that target features are simply concatenated in the note dimension.\n",
        "\n",
        "A single giant graph is automatically built from a list of graphs with DataLoader.\n",
        "\n",
        "1. Create **train_loader** and **test_loader** from **train_dataset** and **test_dataset** by using the torch_geometric.data.DataLoader class.\n",
        "\n",
        "\n"
      ]
    },
    {
      "cell_type": "code",
      "execution_count": 121,
      "metadata": {
        "id": "EHiIeHZ761f_",
        "colab": {
          "base_uri": "https://localhost:8080/"
        },
        "outputId": "a6917cf0-72fb-4bbe-8aef-28437f4243b8"
      },
      "outputs": [
        {
          "output_type": "stream",
          "name": "stderr",
          "text": [
            "/usr/local/lib/python3.10/dist-packages/torch_geometric/deprecation.py:22: UserWarning: 'data.DataLoader' is deprecated, use 'loader.DataLoader' instead\n",
            "  warnings.warn(out)\n"
          ]
        }
      ],
      "source": [
        "train_loader = DataLoader(train_dataset, batch_size=64, shuffle=True)\n",
        "\n",
        "test_loader = DataLoader(test_dataset, batch_size=64, shuffle=True)"
      ]
    },
    {
      "cell_type": "markdown",
      "source": [
        "2. Get a batch from **train_loader**. Print out the number of graphs and data of this batch."
      ],
      "metadata": {
        "id": "5UEgIeIAL1sD"
      }
    },
    {
      "cell_type": "code",
      "source": [
        "batch = next(iter(train_loader))\n",
        "print(\"Number of graphs: \", batch.num_graphs)\n",
        "print(\"Data: \", batch)"
      ],
      "metadata": {
        "colab": {
          "base_uri": "https://localhost:8080/"
        },
        "id": "xNQFCW3MMDd1",
        "outputId": "845674bf-6f27-48ad-9a70-b819021bf8e6"
      },
      "execution_count": 122,
      "outputs": [
        {
          "output_type": "stream",
          "name": "stdout",
          "text": [
            "Number of graphs:  64\n",
            "Data:  DataBatch(x=[1550, 9], edge_index=[2, 3396], edge_attr=[3396, 3], y=[64], smiles=[64], batch=[1550], ptr=[65])\n"
          ]
        }
      ]
    },
    {
      "cell_type": "markdown",
      "metadata": {
        "id": "hWtYDyqY3SQx"
      },
      "source": [
        "# Ex 6: Graph Neural Network Layer\n",
        "\n",
        " Let's try to test a graph neural network layer. This kind of layer is available on the pytorch_geometric.nn module. This layer's similar to Linear Layer (Multi-layer Perception Network) in deep learning.\n",
        "\n",
        "\n",
        " 1. Create an instance of the torch_geometric.nn. GCNConv class. You need choose two parameters: number of features and number of hidden layers."
      ]
    },
    {
      "cell_type": "code",
      "execution_count": 123,
      "metadata": {
        "id": "uwKtqlYI3Qw7"
      },
      "outputs": [],
      "source": [
        "smiles_acetic_acid = \"CC(O)=O\"\n",
        "mol_acetic_acid = rdkit.Chem.MolFromSmiles(smiles_acetic_acid)\n",
        "graph_acetic_acid = mol2graph(mol, y = 1, smiles = smiles_acetic_acid)"
      ]
    },
    {
      "cell_type": "code",
      "execution_count": 124,
      "metadata": {
        "id": "9XoXr9LaOGzf"
      },
      "outputs": [],
      "source": [
        "\n",
        "\n",
        "conv = GCNConv(graph_acetic_acid.num_node_features, 16)"
      ]
    },
    {
      "cell_type": "markdown",
      "source": [
        "2. Apply it to the graph of acetic acid."
      ],
      "metadata": {
        "id": "dOOk6VbcMWuq"
      }
    },
    {
      "cell_type": "code",
      "source": [
        "x = conv(graph_acetic_acid.x, graph_acetic_acid.edge_index)"
      ],
      "metadata": {
        "id": "frXXbsK2M3UZ"
      },
      "execution_count": 125,
      "outputs": []
    },
    {
      "cell_type": "markdown",
      "source": [
        "\n",
        "3. What is the output ? its size ?"
      ],
      "metadata": {
        "id": "cyUU38B6M7tG"
      }
    },
    {
      "cell_type": "code",
      "source": [
        "print(\"Output: \", x)\n",
        "print(\"Size: \", x.size())"
      ],
      "metadata": {
        "colab": {
          "base_uri": "https://localhost:8080/"
        },
        "id": "tE3X7st3M81-",
        "outputId": "a283ccbc-c0c9-4754-b6a0-d90645bf580e"
      },
      "execution_count": 126,
      "outputs": [
        {
          "output_type": "stream",
          "name": "stdout",
          "text": [
            "Output:  tensor([[ 0.9699, -1.3662, -0.7948,  4.7809,  1.8913,  0.3196, -1.2892,  5.5570,\n",
            "          1.8727, -0.5472, -1.1274, -0.4708,  1.7932,  1.9087, -1.6167,  2.9296],\n",
            "        [ 0.9867, -1.7543, -0.5204,  7.3787,  3.0579,  0.5458, -1.6398,  7.9995,\n",
            "          3.1540,  0.1295, -3.1820, -2.0107,  1.9049,  3.7384, -2.5354,  5.1189],\n",
            "        [ 0.7026, -0.8995, -0.3921,  4.7537,  1.9857,  0.4846, -0.9079,  4.9849,\n",
            "          2.3209,  0.2634, -2.2260, -1.3890,  1.1016,  2.3698, -1.5690,  3.4681],\n",
            "        [ 0.5462, -0.6898, -0.3264,  4.6682,  1.6886,  0.7109, -0.8725,  4.5852,\n",
            "          2.3607,  0.4956, -2.4915, -1.5930,  0.7793,  2.4231, -1.5958,  3.6768]],\n",
            "       grad_fn=<AddBackward0>)\n",
            "Size:  torch.Size([4, 16])\n"
          ]
        }
      ]
    },
    {
      "cell_type": "markdown",
      "metadata": {
        "id": "gjTreX5M65sC"
      },
      "source": [
        "# EX 7: global_mean_pool Layer\n",
        "\n",
        "As we've seen in the ex 6, the output of a GNN layer is a tensor with size (35, 16). However, for the graph classification task, the label of graph is just a scaler number. So, we need to aggregate node embeddings into a unified graph embedding (known as readout layer) before training a final classifier. Let's try it to see what the output of a global_mean_pool layer is.\n",
        "\n",
        "\n",
        "1. Pass the **out_GCN_layer** variable to the global_mean_pool function. Store the result in a variable named **out_GMP_layer**\n",
        "\n",
        "2. Print out the shape of **out_GMP_layer**."
      ]
    },
    {
      "cell_type": "code",
      "execution_count": 131,
      "metadata": {
        "id": "m0-2aMh483Rc",
        "colab": {
          "base_uri": "https://localhost:8080/"
        },
        "outputId": "b17da32d-6035-424b-8381-5797823d1fa3"
      },
      "outputs": [
        {
          "output_type": "stream",
          "name": "stdout",
          "text": [
            "tensor([[ 2.5146,  3.5094, -0.3135, -2.5842, -4.5223, -0.2256,  1.2840,  0.3626,\n",
            "         -1.9977,  0.7762, -2.4938, -0.4293, -4.4215, -0.6630, -4.1144,  3.1490]],\n",
            "       grad_fn=<DivBackward0>)\n",
            "shape of output_GMP_layer  torch.Size([1, 16])\n"
          ]
        }
      ],
      "source": [
        "# GMP mean Global mean pool\n",
        "data_for_test_GMP_layer = DataLoader([graph_acetic_acid], batch_size=1 )\n",
        "conv_test = GCNConv(9, 16)\n",
        "\n",
        "data = next(iter(data_for_test_GMP_layer))\n",
        "out_GCN_layer = conv_test(data.x, data.edge_index)\n",
        "\n",
        "out_GMP_layer = global_mean_pool(out_GCN_layer, data.batch)\n",
        "\n",
        "print(out_GMP_layer)\n",
        "print(\"shape of output_GMP_layer \", out_GMP_layer.shape )"
      ]
    },
    {
      "cell_type": "markdown",
      "metadata": {
        "id": "gVYBeplH7QEu"
      },
      "source": [
        "# EX 8: Building a graph network for graph classification task with Pytorch geometric\n",
        "\n",
        "\n",
        "In this exercise, we will create a network to classify if a molecule is active. This network consists of 4 layers:\n",
        "\n",
        "1. A graph convolution network layer conv1\n",
        "\n",
        "2. Another GCN layer conv2\n",
        "\n",
        "3. Another GCN layer conv3\n",
        "\n",
        "4. A torch_geometric.nn.global_mean_pool layer\n",
        "\n",
        "5. A linear layer\n",
        "\n",
        "Relu activation function is used after the two first layers.\n",
        "\n",
        "Complete the lines below (after #TODO) to finish the definition of this network.\n"
      ]
    },
    {
      "cell_type": "code",
      "execution_count": 145,
      "metadata": {
        "id": "wkU-LtEm43SI"
      },
      "outputs": [],
      "source": [
        "from torch_geometric.nn import GCNConv\n",
        "from torch_geometric.nn import global_mean_pool\n",
        "\n",
        "import torch\n",
        "import torch.nn.functional as F\n",
        "from torch.nn import Linear\n",
        "\n",
        "n_features = 9\n",
        "\n",
        "\n",
        "\n",
        "class Net(torch.nn.Module):\n",
        "    def __init__(self):\n",
        "        super(Net, self).__init__()\n",
        "        torch.manual_seed(12)\n",
        "        self.conv1 = GCNConv(n_features, 8)\n",
        "        self.conv2 = GCNConv(8, 16)\n",
        "        self.conv3 = GCNConv(16, 32)\n",
        "\n",
        "        self.linear = Linear(32, 2)\n",
        "\n",
        "\n",
        "    def forward(self, x, edge_index, batch):\n",
        "\n",
        "\n",
        "        # 1. Obtain node embeddings\n",
        "        # First GCN layer\n",
        "        x = self.conv1(x, edge_index)\n",
        "        x = F.relu(x)\n",
        "\n",
        "        # Second GCN layer\n",
        "        x = self.conv2(x, edge_index)\n",
        "        x = F.relu(x)\n",
        "\n",
        "\n",
        "        # Third GCN layer\n",
        "        x = self.conv3(x, edge_index)\n",
        "\n",
        "\n",
        "        #2. REadout layer\n",
        "        x = global_mean_pool(x, batch)\n",
        "\n",
        "\n",
        "        # 3. Linear Layer\n",
        "        x = self.linear(x)\n",
        "\n",
        "        return x\n"
      ]
    },
    {
      "cell_type": "markdown",
      "metadata": {
        "id": "PucPIEd5UTWn"
      },
      "source": [
        "# Ex 9: Create network\n",
        "\n",
        "\n",
        "1. Create the network then print out the model and look at it's text representation\n",
        "\n",
        "2. Define an optimizer. You should use the torch.optim.Adam class.\n",
        "\n",
        "3. Define a loss function. You should use the CrossEntropyLoss class.\n",
        "\n"
      ]
    },
    {
      "cell_type": "code",
      "execution_count": 146,
      "metadata": {
        "id": "KX1DzW1ErYJO",
        "colab": {
          "base_uri": "https://localhost:8080/"
        },
        "outputId": "f54d7aef-716b-4323-cbfe-8f34b2c6d19e"
      },
      "outputs": [
        {
          "output_type": "stream",
          "name": "stdout",
          "text": [
            "Net(\n",
            "  (conv1): GCNConv(9, 8)\n",
            "  (conv2): GCNConv(8, 16)\n",
            "  (conv3): GCNConv(16, 32)\n",
            "  (linear): Linear(in_features=32, out_features=2, bias=True)\n",
            ")\n"
          ]
        }
      ],
      "source": [
        "model = Net()\n",
        "print(model)"
      ]
    },
    {
      "cell_type": "code",
      "source": [
        "optimizer = Adam(model.parameters(), lr=0.01)"
      ],
      "metadata": {
        "id": "AgN1B7uKVzsl"
      },
      "execution_count": 147,
      "outputs": []
    },
    {
      "cell_type": "code",
      "source": [
        "loss_fn = CrossEntropyLoss()"
      ],
      "metadata": {
        "id": "2dFf7FaZWFsp"
      },
      "execution_count": 148,
      "outputs": []
    },
    {
      "cell_type": "markdown",
      "metadata": {
        "id": "ZhsGNksI7zVa"
      },
      "source": [
        "# Ex 10: Train model for an epoch\n",
        "\n",
        "Write a function named **train()** that allows us to train a model for an epoch.\n",
        "\n",
        "The tasks that the function should execute:\n",
        "\n",
        "\n",
        "0. Iterate in batches over the train_loader\n",
        "\n",
        "1. Perform a single forward pass\n",
        "\n",
        "2. Compute the loss\n",
        "\n",
        "3. Derive the gradient\n",
        "\n",
        "4. Update parameters\n",
        "\n",
        "5. Clearn gradients\n",
        "\n",
        "\n",
        "\n",
        "Complete the lines (with ?????) below to finish the function."
      ]
    },
    {
      "cell_type": "code",
      "execution_count": 149,
      "metadata": {
        "id": "xpjXAr8T7qFd"
      },
      "outputs": [],
      "source": [
        "def train():\n",
        "    model.train()\n",
        "\n",
        "    for data in train_loader:\n",
        "        #1.Forward pass\n",
        "         out = model(data.x, data.edge_index, data.batch)\n",
        "         # 2. Compute the loss\n",
        "         loss =  loss_fn(out, data.y)\n",
        "         # 3. Calculate the gradient\n",
        "         loss.backward()\n",
        "         #4. Update the parameters (weights)\n",
        "         optimizer.step()\n",
        "         #5. Clean gradients\n",
        "         optimizer.zero_grad()"
      ]
    },
    {
      "cell_type": "markdown",
      "metadata": {
        "id": "9k4VvLPX8sCA"
      },
      "source": [
        "# Ex 11: Test\n",
        "\n",
        "Similar to Ex9, write a function named **tes(loader)** that allows to compute the accuracy of the model on dataset \"loader\".\n",
        "\n",
        "The steps to calculate the accuracy of a classification model:\n",
        "\n",
        "1. Iterate in batches over the train_loader.\n",
        "\n",
        "2. Compute the output of the model\n",
        "\n",
        "3. Find the class with highest probability\n",
        "\n",
        "4. Count ground-truth labels\n",
        "\n",
        "5. Compute the accuracy\n",
        "\n",
        "\n",
        "Complete the lines (with ?????)  to finish the definition of this network."
      ]
    },
    {
      "cell_type": "code",
      "execution_count": 150,
      "metadata": {
        "id": "Hqf4QsUg8VUE"
      },
      "outputs": [],
      "source": [
        "def test(loader):\n",
        "     model.eval()\n",
        "\n",
        "     correct = 0\n",
        "     for data in loader:\n",
        "         # output of the model\n",
        "         out = model(data.x, data.edge_index, data.batch)\n",
        "\n",
        "         # Use the class with highest probability\n",
        "         pred = out.argmax(dim=1)\n",
        "\n",
        "         # Check against ground-truth labels\n",
        "         correct += int((pred == data.y).sum())\n",
        "     return correct / len(loader.dataset)\n",
        "\n"
      ]
    },
    {
      "cell_type": "markdown",
      "metadata": {
        "id": "-4gcODV_8vTs"
      },
      "source": [
        "# Ex 12: Training model\n",
        "\n",
        "Training model for 100 epoches.\n",
        "\n",
        "Calculate training accuracy for train_loader and test_loader by using the **train()** function and the **test(loader)** function\n"
      ]
    },
    {
      "cell_type": "code",
      "execution_count": 151,
      "metadata": {
        "id": "Si4ay8qM8Zl5",
        "colab": {
          "base_uri": "https://localhost:8080/"
        },
        "outputId": "22ae346a-7d95-49af-99f6-aa13c833b480"
      },
      "outputs": [
        {
          "output_type": "stream",
          "name": "stdout",
          "text": [
            "Epoch: 001, Train Acc: 0.8000, Test Acc: 0.7595\n",
            "Epoch: 002, Train Acc: 0.8000, Test Acc: 0.7595\n",
            "Epoch: 003, Train Acc: 0.8000, Test Acc: 0.7595\n",
            "Epoch: 004, Train Acc: 0.8000, Test Acc: 0.7595\n",
            "Epoch: 005, Train Acc: 0.8000, Test Acc: 0.7595\n",
            "Epoch: 006, Train Acc: 0.8000, Test Acc: 0.7595\n",
            "Epoch: 007, Train Acc: 0.8000, Test Acc: 0.7595\n",
            "Epoch: 008, Train Acc: 0.8000, Test Acc: 0.7595\n",
            "Epoch: 009, Train Acc: 0.8000, Test Acc: 0.7595\n",
            "Epoch: 010, Train Acc: 0.8000, Test Acc: 0.7595\n",
            "Epoch: 011, Train Acc: 0.8000, Test Acc: 0.7595\n",
            "Epoch: 012, Train Acc: 0.8000, Test Acc: 0.7595\n",
            "Epoch: 013, Train Acc: 0.8000, Test Acc: 0.7595\n",
            "Epoch: 014, Train Acc: 0.8000, Test Acc: 0.7595\n",
            "Epoch: 015, Train Acc: 0.8000, Test Acc: 0.7595\n",
            "Epoch: 016, Train Acc: 0.8000, Test Acc: 0.7595\n",
            "Epoch: 017, Train Acc: 0.8000, Test Acc: 0.7595\n",
            "Epoch: 018, Train Acc: 0.8000, Test Acc: 0.7595\n",
            "Epoch: 019, Train Acc: 0.8000, Test Acc: 0.7595\n",
            "Epoch: 020, Train Acc: 0.8000, Test Acc: 0.7595\n",
            "Epoch: 021, Train Acc: 0.8067, Test Acc: 0.7595\n",
            "Epoch: 022, Train Acc: 0.8067, Test Acc: 0.7595\n",
            "Epoch: 023, Train Acc: 0.8100, Test Acc: 0.7595\n",
            "Epoch: 024, Train Acc: 0.8133, Test Acc: 0.7595\n",
            "Epoch: 025, Train Acc: 0.8167, Test Acc: 0.7722\n",
            "Epoch: 026, Train Acc: 0.8400, Test Acc: 0.7722\n",
            "Epoch: 027, Train Acc: 0.8167, Test Acc: 0.7722\n",
            "Epoch: 028, Train Acc: 0.8500, Test Acc: 0.8354\n",
            "Epoch: 029, Train Acc: 0.8467, Test Acc: 0.7722\n",
            "Epoch: 030, Train Acc: 0.8667, Test Acc: 0.8608\n",
            "Epoch: 031, Train Acc: 0.8300, Test Acc: 0.7722\n",
            "Epoch: 032, Train Acc: 0.8500, Test Acc: 0.8354\n",
            "Epoch: 033, Train Acc: 0.8500, Test Acc: 0.7848\n",
            "Epoch: 034, Train Acc: 0.8667, Test Acc: 0.8608\n",
            "Epoch: 035, Train Acc: 0.8700, Test Acc: 0.8354\n",
            "Epoch: 036, Train Acc: 0.8700, Test Acc: 0.8228\n",
            "Epoch: 037, Train Acc: 0.8767, Test Acc: 0.8481\n",
            "Epoch: 038, Train Acc: 0.8700, Test Acc: 0.8481\n",
            "Epoch: 039, Train Acc: 0.8800, Test Acc: 0.8608\n",
            "Epoch: 040, Train Acc: 0.8700, Test Acc: 0.8481\n",
            "Epoch: 041, Train Acc: 0.8733, Test Acc: 0.8861\n",
            "Epoch: 042, Train Acc: 0.8967, Test Acc: 0.8481\n",
            "Epoch: 043, Train Acc: 0.8767, Test Acc: 0.8861\n",
            "Epoch: 044, Train Acc: 0.8967, Test Acc: 0.8481\n",
            "Epoch: 045, Train Acc: 0.8800, Test Acc: 0.8861\n",
            "Epoch: 046, Train Acc: 0.8933, Test Acc: 0.8481\n",
            "Epoch: 047, Train Acc: 0.8900, Test Acc: 0.8608\n",
            "Epoch: 048, Train Acc: 0.9000, Test Acc: 0.8481\n",
            "Epoch: 049, Train Acc: 0.9000, Test Acc: 0.8608\n",
            "Epoch: 050, Train Acc: 0.8967, Test Acc: 0.8608\n",
            "Epoch: 051, Train Acc: 0.8833, Test Acc: 0.8608\n",
            "Epoch: 052, Train Acc: 0.9000, Test Acc: 0.8608\n",
            "Epoch: 053, Train Acc: 0.8867, Test Acc: 0.8734\n",
            "Epoch: 054, Train Acc: 0.8833, Test Acc: 0.8481\n",
            "Epoch: 055, Train Acc: 0.8833, Test Acc: 0.8734\n",
            "Epoch: 056, Train Acc: 0.8967, Test Acc: 0.8481\n",
            "Epoch: 057, Train Acc: 0.8867, Test Acc: 0.8734\n",
            "Epoch: 058, Train Acc: 0.8967, Test Acc: 0.8481\n",
            "Epoch: 059, Train Acc: 0.8667, Test Acc: 0.8481\n",
            "Epoch: 060, Train Acc: 0.8733, Test Acc: 0.8481\n",
            "Epoch: 061, Train Acc: 0.9000, Test Acc: 0.8608\n",
            "Epoch: 062, Train Acc: 0.9000, Test Acc: 0.8608\n",
            "Epoch: 063, Train Acc: 0.8967, Test Acc: 0.8481\n",
            "Epoch: 064, Train Acc: 0.8800, Test Acc: 0.8861\n",
            "Epoch: 065, Train Acc: 0.8933, Test Acc: 0.8481\n",
            "Epoch: 066, Train Acc: 0.8867, Test Acc: 0.8734\n",
            "Epoch: 067, Train Acc: 0.9033, Test Acc: 0.8608\n",
            "Epoch: 068, Train Acc: 0.9000, Test Acc: 0.8734\n",
            "Epoch: 069, Train Acc: 0.9067, Test Acc: 0.8608\n",
            "Epoch: 070, Train Acc: 0.8900, Test Acc: 0.8734\n",
            "Epoch: 071, Train Acc: 0.9000, Test Acc: 0.8734\n",
            "Epoch: 072, Train Acc: 0.8700, Test Acc: 0.8354\n",
            "Epoch: 073, Train Acc: 0.8833, Test Acc: 0.8734\n",
            "Epoch: 074, Train Acc: 0.9000, Test Acc: 0.8734\n",
            "Epoch: 075, Train Acc: 0.9000, Test Acc: 0.8734\n",
            "Epoch: 076, Train Acc: 0.9067, Test Acc: 0.8861\n",
            "Epoch: 077, Train Acc: 0.9033, Test Acc: 0.8734\n",
            "Epoch: 078, Train Acc: 0.9000, Test Acc: 0.8734\n",
            "Epoch: 079, Train Acc: 0.9100, Test Acc: 0.8608\n",
            "Epoch: 080, Train Acc: 0.8967, Test Acc: 0.8734\n",
            "Epoch: 081, Train Acc: 0.9100, Test Acc: 0.8608\n",
            "Epoch: 082, Train Acc: 0.9000, Test Acc: 0.8734\n",
            "Epoch: 083, Train Acc: 0.9033, Test Acc: 0.8861\n",
            "Epoch: 084, Train Acc: 0.9100, Test Acc: 0.8861\n",
            "Epoch: 085, Train Acc: 0.9100, Test Acc: 0.8861\n",
            "Epoch: 086, Train Acc: 0.9033, Test Acc: 0.8861\n",
            "Epoch: 087, Train Acc: 0.9067, Test Acc: 0.8861\n",
            "Epoch: 088, Train Acc: 0.9033, Test Acc: 0.8861\n",
            "Epoch: 089, Train Acc: 0.9133, Test Acc: 0.8734\n",
            "Epoch: 090, Train Acc: 0.9067, Test Acc: 0.8734\n",
            "Epoch: 091, Train Acc: 0.9167, Test Acc: 0.8734\n",
            "Epoch: 092, Train Acc: 0.9133, Test Acc: 0.8734\n",
            "Epoch: 093, Train Acc: 0.9100, Test Acc: 0.8861\n",
            "Epoch: 094, Train Acc: 0.9100, Test Acc: 0.8734\n",
            "Epoch: 095, Train Acc: 0.9100, Test Acc: 0.8861\n",
            "Epoch: 096, Train Acc: 0.9133, Test Acc: 0.8861\n",
            "Epoch: 097, Train Acc: 0.9067, Test Acc: 0.8861\n",
            "Epoch: 098, Train Acc: 0.9100, Test Acc: 0.8734\n",
            "Epoch: 099, Train Acc: 0.9033, Test Acc: 0.8861\n",
            "Epoch: 100, Train Acc: 0.9100, Test Acc: 0.8861\n"
          ]
        }
      ],
      "source": [
        "epochs = 100\n",
        "\n",
        "for epoch in range(1, epochs + 1):\n",
        "    train()\n",
        "    train_acc = test(train_loader)\n",
        "    test_acc = test(test_loader)\n",
        "    print(f'Epoch: {epoch:03d}, Train Acc: {train_acc:.4f}, Test Acc: {test_acc:.4f}')"
      ]
    }
  ],
  "metadata": {
    "colab": {
      "provenance": []
    },
    "kernelspec": {
      "display_name": "Python 3 (ipykernel)",
      "language": "python",
      "name": "python3"
    },
    "language_info": {
      "codemirror_mode": {
        "name": "ipython",
        "version": 3
      },
      "file_extension": ".py",
      "mimetype": "text/x-python",
      "name": "python",
      "nbconvert_exporter": "python",
      "pygments_lexer": "ipython3",
      "version": "3.9.9"
    }
  },
  "nbformat": 4,
  "nbformat_minor": 0
}