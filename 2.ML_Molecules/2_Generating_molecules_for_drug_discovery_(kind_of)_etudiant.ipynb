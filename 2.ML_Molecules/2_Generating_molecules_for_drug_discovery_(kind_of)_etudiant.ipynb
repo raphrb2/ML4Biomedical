{
  "cells": [
    {
      "cell_type": "markdown",
      "metadata": {
        "id": "7YhDx0Tsyyhd"
      },
      "source": [
        "# RNN Based molucule generation\n",
        "\n",
        "Laurent Cetinsoy\n",
        "\n",
        "In this hands-on we want to generate molecule formulas for denovo-drug discovery.\n",
        "\n",
        "For that we need to use Generative models. Generative models are models which goes beyond classification or simple regression : they are able to generate data that look like previously seens dataset.\n",
        "\n",
        "There exists a lot of models :\n",
        "\n",
        "- Bayesian models like graphical models\n",
        "- Recurrent models (for sequence generation like texte)\n",
        "- Variational auto encoders\n",
        "- Generative adversarial models\n",
        "- Flow and diffusion models\n",
        "\n",
        "\n",
        "In the hands-on we will start by  trainning a character based RNN to generate smile molecules\n",
        "\n",
        "\n",
        "We want to feed smile representations of molecules to an RNN.\n",
        "The basic idea is we will train it to predict the next smile token of a molecule given the previous one.\n",
        "\n",
        "For instance for the following molecule \"CC(=O)NC1=CC=C(O)C=C1\" will may give to the model\n",
        "\n",
        "X = \"CC(=O)N\"\n",
        "y = C\n",
        "\n",
        "and ask the RNN to learn to predict y given X\n",
        "\n",
        "Like a standard language model !\n"
      ]
    },
    {
      "cell_type": "markdown",
      "metadata": {
        "id": "c-Que9IFyyhk"
      },
      "source": [
        "## RNN Language model\n",
        "\n",
        "\n",
        "A language model is a model which predict the next token of a sequence given the previous ones :\n",
        "\n",
        "$ P(X_t | X_{t-1}, X_{t-2}, ..., X_{t-p})  $\n",
        "\n",
        "\n",
        "This model can be learned with a Recurrent neural network\n",
        "\n",
        "$ y = P(X_t | X_{t-1}, X_{t-2}, ..., X_{t-p}) = RNN_{\\theta} (X_{t-1}, X_{t-2}, ..., X_{t-p})  $\n",
        "\n",
        "\n",
        "In order to train such model you need a corpus of data.\n",
        "\n",
        "\n",
        "\n",
        "There are two main ways to do that : Word level model or character level model\n",
        "\n",
        "For character level models, an interesting resource is : http://karpathy.github.io/2015/05/21/rnn-effectiveness/\n",
        "\n"
      ]
    },
    {
      "cell_type": "code",
      "source": [
        "from google.colab import drive\n",
        "drive.mount('/content/drive')"
      ],
      "metadata": {
        "id": "YmPFll_g45xN",
        "outputId": "5bb86b89-ae99-475f-96bc-203397000c7a",
        "colab": {
          "base_uri": "https://localhost:8080/"
        }
      },
      "execution_count": 3,
      "outputs": [
        {
          "output_type": "stream",
          "name": "stdout",
          "text": [
            "Mounted at /content/drive\n"
          ]
        }
      ]
    },
    {
      "cell_type": "markdown",
      "metadata": {
        "id": "ZaSGBHWXyyhm"
      },
      "source": [
        "Explain briefly what is the difference between word based language model and character based language model"
      ]
    },
    {
      "cell_type": "markdown",
      "metadata": {
        "id": "7c3FB6X4yyhn"
      },
      "source": [
        "A model utilizing word-based language methodology predicts subsequent words in a sentence by analyzing the preceding ones, acquiring a specific representation in the process, known as embedding.\n",
        "\n",
        "Conversely, models rooted in character-based methodologies are adept at anticipating the ensuing character by evaluating the preceding ones. These models omit the necessity for preliminary data processing, focusing on each character distinctly. Consequently, they exhibit a more refined granularity and demonstrate proficient handling of unfamiliar words or words not enlisted in the vocabulary."
      ]
    },
    {
      "cell_type": "markdown",
      "source": [
        "##Imports"
      ],
      "metadata": {
        "id": "pVjsJwD75euU"
      }
    },
    {
      "cell_type": "code",
      "source": [
        "import pandas as pd\n",
        "import numpy as np"
      ],
      "metadata": {
        "id": "ivENZXS_5a3-"
      },
      "execution_count": 4,
      "outputs": []
    },
    {
      "cell_type": "markdown",
      "metadata": {
        "id": "WU_SbWlJyyhn"
      },
      "source": [
        "## Loading the data"
      ]
    },
    {
      "cell_type": "markdown",
      "metadata": {
        "id": "9CAnQcj3yyho"
      },
      "source": [
        "Dowload the following dataset : https://github.com/joeymach/Leveraging-VAE-to-generate-molecules"
      ]
    },
    {
      "cell_type": "markdown",
      "metadata": {
        "id": "nyvW9PMyyyhr"
      },
      "source": [
        "Import pandas and load the first 1000 lines"
      ]
    },
    {
      "cell_type": "code",
      "execution_count": 5,
      "metadata": {
        "id": "p2FuRl15yyhr"
      },
      "outputs": [],
      "source": [
        "df = pd.read_csv('/content/drive/MyDrive/data/250k_smiles.csv', nrows=1000)"
      ]
    },
    {
      "cell_type": "markdown",
      "metadata": {
        "id": "gO3XWPQMyyhs"
      },
      "source": [
        "Display the first rows of the dataframe"
      ]
    },
    {
      "cell_type": "code",
      "execution_count": 6,
      "metadata": {
        "id": "zjQ6_NK3yyht",
        "outputId": "45e55a17-92ae-4b97-e0e8-cbd9085d5035",
        "colab": {
          "base_uri": "https://localhost:8080/",
          "height": 206
        }
      },
      "outputs": [
        {
          "output_type": "execute_result",
          "data": {
            "text/plain": [
              "                                              smiles     logP       qed  \\\n",
              "0          CC(C)(C)c1ccc2occ(CC(=O)Nc3ccccc3F)c2c1\\n  5.05060  0.702012   \n",
              "1     C[C@@H]1CC(Nc2cncc(-c3nncn3C)c2)C[C@@H](C)C1\\n  3.11370  0.928975   \n",
              "2  N#Cc1ccc(-c2ccc(O[C@@H](C(=O)N3CCCC3)c3ccccc3)...  4.96778  0.599682   \n",
              "3  CCOC(=O)[C@@H]1CCCN(C(=O)c2nc(-c3ccc(C)cc3)n3c...  4.00022  0.690944   \n",
              "4  N#CC1=C(SCC(=O)Nc2cccc(Cl)c2)N=C([O-])[C@H](C#...  3.60956  0.789027   \n",
              "\n",
              "        SAS  \n",
              "0  2.084095  \n",
              "1  3.432004  \n",
              "2  2.470633  \n",
              "3  2.822753  \n",
              "4  4.035182  "
            ],
            "text/html": [
              "\n",
              "  <div id=\"df-ebe19232-940f-4292-8e27-150a82f4faf7\" class=\"colab-df-container\">\n",
              "    <div>\n",
              "<style scoped>\n",
              "    .dataframe tbody tr th:only-of-type {\n",
              "        vertical-align: middle;\n",
              "    }\n",
              "\n",
              "    .dataframe tbody tr th {\n",
              "        vertical-align: top;\n",
              "    }\n",
              "\n",
              "    .dataframe thead th {\n",
              "        text-align: right;\n",
              "    }\n",
              "</style>\n",
              "<table border=\"1\" class=\"dataframe\">\n",
              "  <thead>\n",
              "    <tr style=\"text-align: right;\">\n",
              "      <th></th>\n",
              "      <th>smiles</th>\n",
              "      <th>logP</th>\n",
              "      <th>qed</th>\n",
              "      <th>SAS</th>\n",
              "    </tr>\n",
              "  </thead>\n",
              "  <tbody>\n",
              "    <tr>\n",
              "      <th>0</th>\n",
              "      <td>CC(C)(C)c1ccc2occ(CC(=O)Nc3ccccc3F)c2c1\\n</td>\n",
              "      <td>5.05060</td>\n",
              "      <td>0.702012</td>\n",
              "      <td>2.084095</td>\n",
              "    </tr>\n",
              "    <tr>\n",
              "      <th>1</th>\n",
              "      <td>C[C@@H]1CC(Nc2cncc(-c3nncn3C)c2)C[C@@H](C)C1\\n</td>\n",
              "      <td>3.11370</td>\n",
              "      <td>0.928975</td>\n",
              "      <td>3.432004</td>\n",
              "    </tr>\n",
              "    <tr>\n",
              "      <th>2</th>\n",
              "      <td>N#Cc1ccc(-c2ccc(O[C@@H](C(=O)N3CCCC3)c3ccccc3)...</td>\n",
              "      <td>4.96778</td>\n",
              "      <td>0.599682</td>\n",
              "      <td>2.470633</td>\n",
              "    </tr>\n",
              "    <tr>\n",
              "      <th>3</th>\n",
              "      <td>CCOC(=O)[C@@H]1CCCN(C(=O)c2nc(-c3ccc(C)cc3)n3c...</td>\n",
              "      <td>4.00022</td>\n",
              "      <td>0.690944</td>\n",
              "      <td>2.822753</td>\n",
              "    </tr>\n",
              "    <tr>\n",
              "      <th>4</th>\n",
              "      <td>N#CC1=C(SCC(=O)Nc2cccc(Cl)c2)N=C([O-])[C@H](C#...</td>\n",
              "      <td>3.60956</td>\n",
              "      <td>0.789027</td>\n",
              "      <td>4.035182</td>\n",
              "    </tr>\n",
              "  </tbody>\n",
              "</table>\n",
              "</div>\n",
              "    <div class=\"colab-df-buttons\">\n",
              "\n",
              "  <div class=\"colab-df-container\">\n",
              "    <button class=\"colab-df-convert\" onclick=\"convertToInteractive('df-ebe19232-940f-4292-8e27-150a82f4faf7')\"\n",
              "            title=\"Convert this dataframe to an interactive table.\"\n",
              "            style=\"display:none;\">\n",
              "\n",
              "  <svg xmlns=\"http://www.w3.org/2000/svg\" height=\"24px\" viewBox=\"0 -960 960 960\">\n",
              "    <path d=\"M120-120v-720h720v720H120Zm60-500h600v-160H180v160Zm220 220h160v-160H400v160Zm0 220h160v-160H400v160ZM180-400h160v-160H180v160Zm440 0h160v-160H620v160ZM180-180h160v-160H180v160Zm440 0h160v-160H620v160Z\"/>\n",
              "  </svg>\n",
              "    </button>\n",
              "\n",
              "  <style>\n",
              "    .colab-df-container {\n",
              "      display:flex;\n",
              "      gap: 12px;\n",
              "    }\n",
              "\n",
              "    .colab-df-convert {\n",
              "      background-color: #E8F0FE;\n",
              "      border: none;\n",
              "      border-radius: 50%;\n",
              "      cursor: pointer;\n",
              "      display: none;\n",
              "      fill: #1967D2;\n",
              "      height: 32px;\n",
              "      padding: 0 0 0 0;\n",
              "      width: 32px;\n",
              "    }\n",
              "\n",
              "    .colab-df-convert:hover {\n",
              "      background-color: #E2EBFA;\n",
              "      box-shadow: 0px 1px 2px rgba(60, 64, 67, 0.3), 0px 1px 3px 1px rgba(60, 64, 67, 0.15);\n",
              "      fill: #174EA6;\n",
              "    }\n",
              "\n",
              "    .colab-df-buttons div {\n",
              "      margin-bottom: 4px;\n",
              "    }\n",
              "\n",
              "    [theme=dark] .colab-df-convert {\n",
              "      background-color: #3B4455;\n",
              "      fill: #D2E3FC;\n",
              "    }\n",
              "\n",
              "    [theme=dark] .colab-df-convert:hover {\n",
              "      background-color: #434B5C;\n",
              "      box-shadow: 0px 1px 3px 1px rgba(0, 0, 0, 0.15);\n",
              "      filter: drop-shadow(0px 1px 2px rgba(0, 0, 0, 0.3));\n",
              "      fill: #FFFFFF;\n",
              "    }\n",
              "  </style>\n",
              "\n",
              "    <script>\n",
              "      const buttonEl =\n",
              "        document.querySelector('#df-ebe19232-940f-4292-8e27-150a82f4faf7 button.colab-df-convert');\n",
              "      buttonEl.style.display =\n",
              "        google.colab.kernel.accessAllowed ? 'block' : 'none';\n",
              "\n",
              "      async function convertToInteractive(key) {\n",
              "        const element = document.querySelector('#df-ebe19232-940f-4292-8e27-150a82f4faf7');\n",
              "        const dataTable =\n",
              "          await google.colab.kernel.invokeFunction('convertToInteractive',\n",
              "                                                    [key], {});\n",
              "        if (!dataTable) return;\n",
              "\n",
              "        const docLinkHtml = 'Like what you see? Visit the ' +\n",
              "          '<a target=\"_blank\" href=https://colab.research.google.com/notebooks/data_table.ipynb>data table notebook</a>'\n",
              "          + ' to learn more about interactive tables.';\n",
              "        element.innerHTML = '';\n",
              "        dataTable['output_type'] = 'display_data';\n",
              "        await google.colab.output.renderOutput(dataTable, element);\n",
              "        const docLink = document.createElement('div');\n",
              "        docLink.innerHTML = docLinkHtml;\n",
              "        element.appendChild(docLink);\n",
              "      }\n",
              "    </script>\n",
              "  </div>\n",
              "\n",
              "\n",
              "<div id=\"df-9fc86eb7-fbbc-4527-acba-d97335dfe3bc\">\n",
              "  <button class=\"colab-df-quickchart\" onclick=\"quickchart('df-9fc86eb7-fbbc-4527-acba-d97335dfe3bc')\"\n",
              "            title=\"Suggest charts.\"\n",
              "            style=\"display:none;\">\n",
              "\n",
              "<svg xmlns=\"http://www.w3.org/2000/svg\" height=\"24px\"viewBox=\"0 0 24 24\"\n",
              "     width=\"24px\">\n",
              "    <g>\n",
              "        <path d=\"M19 3H5c-1.1 0-2 .9-2 2v14c0 1.1.9 2 2 2h14c1.1 0 2-.9 2-2V5c0-1.1-.9-2-2-2zM9 17H7v-7h2v7zm4 0h-2V7h2v10zm4 0h-2v-4h2v4z\"/>\n",
              "    </g>\n",
              "</svg>\n",
              "  </button>\n",
              "\n",
              "<style>\n",
              "  .colab-df-quickchart {\n",
              "      --bg-color: #E8F0FE;\n",
              "      --fill-color: #1967D2;\n",
              "      --hover-bg-color: #E2EBFA;\n",
              "      --hover-fill-color: #174EA6;\n",
              "      --disabled-fill-color: #AAA;\n",
              "      --disabled-bg-color: #DDD;\n",
              "  }\n",
              "\n",
              "  [theme=dark] .colab-df-quickchart {\n",
              "      --bg-color: #3B4455;\n",
              "      --fill-color: #D2E3FC;\n",
              "      --hover-bg-color: #434B5C;\n",
              "      --hover-fill-color: #FFFFFF;\n",
              "      --disabled-bg-color: #3B4455;\n",
              "      --disabled-fill-color: #666;\n",
              "  }\n",
              "\n",
              "  .colab-df-quickchart {\n",
              "    background-color: var(--bg-color);\n",
              "    border: none;\n",
              "    border-radius: 50%;\n",
              "    cursor: pointer;\n",
              "    display: none;\n",
              "    fill: var(--fill-color);\n",
              "    height: 32px;\n",
              "    padding: 0;\n",
              "    width: 32px;\n",
              "  }\n",
              "\n",
              "  .colab-df-quickchart:hover {\n",
              "    background-color: var(--hover-bg-color);\n",
              "    box-shadow: 0 1px 2px rgba(60, 64, 67, 0.3), 0 1px 3px 1px rgba(60, 64, 67, 0.15);\n",
              "    fill: var(--button-hover-fill-color);\n",
              "  }\n",
              "\n",
              "  .colab-df-quickchart-complete:disabled,\n",
              "  .colab-df-quickchart-complete:disabled:hover {\n",
              "    background-color: var(--disabled-bg-color);\n",
              "    fill: var(--disabled-fill-color);\n",
              "    box-shadow: none;\n",
              "  }\n",
              "\n",
              "  .colab-df-spinner {\n",
              "    border: 2px solid var(--fill-color);\n",
              "    border-color: transparent;\n",
              "    border-bottom-color: var(--fill-color);\n",
              "    animation:\n",
              "      spin 1s steps(1) infinite;\n",
              "  }\n",
              "\n",
              "  @keyframes spin {\n",
              "    0% {\n",
              "      border-color: transparent;\n",
              "      border-bottom-color: var(--fill-color);\n",
              "      border-left-color: var(--fill-color);\n",
              "    }\n",
              "    20% {\n",
              "      border-color: transparent;\n",
              "      border-left-color: var(--fill-color);\n",
              "      border-top-color: var(--fill-color);\n",
              "    }\n",
              "    30% {\n",
              "      border-color: transparent;\n",
              "      border-left-color: var(--fill-color);\n",
              "      border-top-color: var(--fill-color);\n",
              "      border-right-color: var(--fill-color);\n",
              "    }\n",
              "    40% {\n",
              "      border-color: transparent;\n",
              "      border-right-color: var(--fill-color);\n",
              "      border-top-color: var(--fill-color);\n",
              "    }\n",
              "    60% {\n",
              "      border-color: transparent;\n",
              "      border-right-color: var(--fill-color);\n",
              "    }\n",
              "    80% {\n",
              "      border-color: transparent;\n",
              "      border-right-color: var(--fill-color);\n",
              "      border-bottom-color: var(--fill-color);\n",
              "    }\n",
              "    90% {\n",
              "      border-color: transparent;\n",
              "      border-bottom-color: var(--fill-color);\n",
              "    }\n",
              "  }\n",
              "</style>\n",
              "\n",
              "  <script>\n",
              "    async function quickchart(key) {\n",
              "      const quickchartButtonEl =\n",
              "        document.querySelector('#' + key + ' button');\n",
              "      quickchartButtonEl.disabled = true;  // To prevent multiple clicks.\n",
              "      quickchartButtonEl.classList.add('colab-df-spinner');\n",
              "      try {\n",
              "        const charts = await google.colab.kernel.invokeFunction(\n",
              "            'suggestCharts', [key], {});\n",
              "      } catch (error) {\n",
              "        console.error('Error during call to suggestCharts:', error);\n",
              "      }\n",
              "      quickchartButtonEl.classList.remove('colab-df-spinner');\n",
              "      quickchartButtonEl.classList.add('colab-df-quickchart-complete');\n",
              "    }\n",
              "    (() => {\n",
              "      let quickchartButtonEl =\n",
              "        document.querySelector('#df-9fc86eb7-fbbc-4527-acba-d97335dfe3bc button');\n",
              "      quickchartButtonEl.style.display =\n",
              "        google.colab.kernel.accessAllowed ? 'block' : 'none';\n",
              "    })();\n",
              "  </script>\n",
              "</div>\n",
              "    </div>\n",
              "  </div>\n"
            ]
          },
          "metadata": {},
          "execution_count": 6
        }
      ],
      "source": [
        "df.head()"
      ]
    },
    {
      "cell_type": "markdown",
      "metadata": {
        "id": "VfyMV4QXyyhu"
      },
      "source": [
        "## Processing the data\n",
        "\n",
        "We need to do the following things :\n",
        "\n",
        "- convert smile tokens to numbers\n",
        "- build  smile token sequences and corresponding labels pairs"
      ]
    },
    {
      "cell_type": "markdown",
      "metadata": {
        "id": "C-wwZXCOyyhu"
      },
      "source": [
        "Compute the biggest smile molecule size"
      ]
    },
    {
      "cell_type": "code",
      "execution_count": 7,
      "metadata": {
        "id": "FMkUcyH3yyhv",
        "outputId": "358c9578-5c32-4207-8eee-2ded0e00b65f",
        "colab": {
          "base_uri": "https://localhost:8080/"
        }
      },
      "outputs": [
        {
          "output_type": "execute_result",
          "data": {
            "text/plain": [
              "106"
            ]
          },
          "metadata": {},
          "execution_count": 7
        }
      ],
      "source": [
        "df['smiles'].apply(len).max()"
      ]
    },
    {
      "cell_type": "markdown",
      "metadata": {
        "id": "7WrIDz_cyyhv"
      },
      "source": [
        "\n",
        "Code a function **unic_characters(string)** which return the unic characters in a string\n"
      ]
    },
    {
      "cell_type": "code",
      "execution_count": 8,
      "metadata": {
        "id": "alXR3qcHyyhw"
      },
      "outputs": [],
      "source": [
        "def unic_characters(string):\n",
        "    return np.unique(list(string))"
      ]
    },
    {
      "cell_type": "markdown",
      "metadata": {
        "id": "4DITuFSeyyhx"
      },
      "source": [
        "Concatenate all smile string of the pandas dataframe and use **unic_characters** to get the unic_characters"
      ]
    },
    {
      "cell_type": "code",
      "execution_count": 9,
      "metadata": {
        "id": "Pweel8bxyyhx",
        "outputId": "c8220c71-1561-4f7b-bd41-354981987cc2",
        "colab": {
          "base_uri": "https://localhost:8080/"
        }
      },
      "outputs": [
        {
          "output_type": "execute_result",
          "data": {
            "text/plain": [
              "array(['\\n', '#', '(', ')', '+', '-', '/', '1', '2', '3', '4', '5', '6',\n",
              "       '7', '=', '@', 'B', 'C', 'F', 'H', 'I', 'N', 'O', 'S', '[', '\\\\',\n",
              "       ']', 'c', 'l', 'n', 'o', 'r', 's'], dtype='<U1')"
            ]
          },
          "metadata": {},
          "execution_count": 9
        }
      ],
      "source": [
        "unic_chars = unic_characters(df[\"smiles\"].sum())\n",
        "unic_chars"
      ]
    },
    {
      "cell_type": "markdown",
      "metadata": {
        "id": "LXmrYw-nyyhy"
      },
      "source": [
        "Code a function **map_char_to_int(unic_chars)** which returns a dictionnary where each char is assigned an int value.\n",
        "Add a character to specify the end of the molecule (like \"\\n\")\n"
      ]
    },
    {
      "cell_type": "markdown",
      "metadata": {
        "id": "GbrgQmRgyyhz"
      },
      "source": [
        "Code a function map_int_to_char(unic_chars) which returns the reverse mapping.\n",
        "\n",
        "If you want you can merge both functions in a class"
      ]
    },
    {
      "cell_type": "code",
      "execution_count": 10,
      "metadata": {
        "id": "mX3883sYyyh0",
        "colab": {
          "base_uri": "https://localhost:8080/"
        },
        "outputId": "1b769311-82f9-481d-e2d0-6e56d17476b4"
      },
      "outputs": [
        {
          "output_type": "stream",
          "name": "stdout",
          "text": [
            "Char to int: {'\\n': 0, '#': 1, '(': 2, ')': 3, '+': 4, '-': 5, '/': 6, '1': 7, '2': 8, '3': 9, '4': 10, '5': 11, '6': 12, '7': 13, '=': 14, '@': 15, 'B': 16, 'C': 17, 'F': 18, 'H': 19, 'I': 20, 'N': 21, 'O': 22, 'S': 23, '[': 24, '\\\\': 25, ']': 26, 'c': 27, 'l': 28, 'n': 29, 'o': 30, 'r': 31, 's': 32}\n",
            "Int to char: {0: '\\n', 1: '#', 2: '(', 3: ')', 4: '+', 5: '-', 6: '/', 7: '1', 8: '2', 9: '3', 10: '4', 11: '5', 12: '6', 13: '7', 14: '=', 15: '@', 16: 'B', 17: 'C', 18: 'F', 19: 'H', 20: 'I', 21: 'N', 22: 'O', 23: 'S', 24: '[', 25: '\\\\', 26: ']', 27: 'c', 28: 'l', 29: 'n', 30: 'o', 31: 'r', 32: 's'}\n"
          ]
        }
      ],
      "source": [
        "class Encoder:\n",
        "    def map_char_to_int(string):\n",
        "        dico = {char: i for i, char in enumerate(string)}\n",
        "        dico['\\n'] = 0\n",
        "        return dico\n",
        "\n",
        "    def map_int_to_char(string):\n",
        "        dico = {i: char for i, char in enumerate(string)}\n",
        "        dico[0] = '\\n'\n",
        "        return dico\n",
        "\n",
        "char_to_int = Encoder.map_char_to_int(unic_chars)\n",
        "print(f'Char to int: {char_to_int}')\n",
        "\n",
        "int_to_char = Encoder.map_int_to_char(unic_chars)\n",
        "print(f'Int to char: {int_to_char}')"
      ]
    },
    {
      "cell_type": "markdown",
      "metadata": {
        "id": "1etZs7T3yyh1"
      },
      "source": [
        "For each smile molecule add the ending token to it"
      ]
    },
    {
      "cell_type": "code",
      "execution_count": 11,
      "metadata": {
        "id": "hKC4TyuZyyh1"
      },
      "outputs": [],
      "source": [
        "df['smiles'] = df['smiles'].map(lambda x: x.replace('\\n', '') + '\\n')"
      ]
    },
    {
      "cell_type": "markdown",
      "metadata": {
        "id": "QpuIn5z1yyh2"
      },
      "source": [
        "## Building the dataset\n",
        "\n",
        "Now we will create the dataset so that it has the good share for our Keras LSTM model\n",
        "\n",
        "Remember Keras recurrent models expect a 3D array with shapes (n_examples, seq_len, n_features)\n",
        "\n"
      ]
    },
    {
      "cell_type": "markdown",
      "metadata": {
        "id": "ldUup-_Qyyh2"
      },
      "source": [
        "What will be n_features in our case ?"
      ]
    },
    {
      "cell_type": "markdown",
      "source": [
        "The `n_features` would be the number of unique characters in our vocabulary."
      ],
      "metadata": {
        "id": "489IpN7i9nKm"
      }
    },
    {
      "cell_type": "markdown",
      "metadata": {
        "id": "Jwkwafxdyyh4"
      },
      "source": [
        "Code a function **build_X_and_y(string, i_char, seq_lenght)** which takes a string, a **seq_length** number and a position.\n",
        "\n",
        "\n",
        "It should create X by getting all character between i and i + seq_length\n",
        "and create y by getting the character following the X sequence\n",
        "it returns X and y"
      ]
    },
    {
      "cell_type": "code",
      "source": [
        "def build_X_and_y(string, i_char, seq_length):\n",
        "    X = string[-seq_length:]\n",
        "    y = int_to_char[0]\n",
        "    if i_char + seq_length < len(string):\n",
        "        X = string[i_char : i_char + seq_length]\n",
        "        if i_char + seq_length + 1 < len(string):\n",
        "            y = string[i_char + seq_length]\n",
        "\n",
        "    return X, y"
      ],
      "metadata": {
        "id": "Hq12RN_n91v9"
      },
      "execution_count": 12,
      "outputs": []
    },
    {
      "cell_type": "markdown",
      "metadata": {
        "id": "PfRJ_Lpkyyh4"
      },
      "source": [
        "Test your function on the following string \"OCC(C)(C)c1ccc\" with seq_length = 4 and i = [1, 2, 3]"
      ]
    },
    {
      "cell_type": "code",
      "execution_count": 13,
      "metadata": {
        "id": "ToDrNcT8yyh5",
        "colab": {
          "base_uri": "https://localhost:8080/"
        },
        "outputId": "da699c51-f804-4a68-a2d8-f8e55173dd5c"
      },
      "outputs": [
        {
          "output_type": "stream",
          "name": "stdout",
          "text": [
            "X: CC(C\n",
            "y: )\n"
          ]
        }
      ],
      "source": [
        "seq_length = 4\n",
        "string = \"OCC(C)(C)c1ccc\"\n",
        "i = 1\n",
        "resX, resy = build_X_and_y(string, i, seq_length)\n",
        "print(f'X: {resX}\\ny: {resy}')"
      ]
    },
    {
      "cell_type": "markdown",
      "metadata": {
        "id": "y9DdyLSUyyh5"
      },
      "source": [
        "By using build_X_and_y and map_char_to_int build a list named X_train and a list named y_train"
      ]
    },
    {
      "cell_type": "code",
      "execution_count": 14,
      "metadata": {
        "id": "xRb61XzXyyh6"
      },
      "outputs": [],
      "source": [
        "X_train = []\n",
        "y_train = []\n",
        "\n",
        "data = ''.join(df['smiles'].values)\n",
        "\n",
        "for i_char in range(len(data) - seq_length):\n",
        "    X, y = build_X_and_y(data, i_char, seq_length)\n",
        "    X_train.append([char_to_int[char] for char in X])\n",
        "    y_train.append(char_to_int[y])"
      ]
    },
    {
      "cell_type": "markdown",
      "metadata": {
        "id": "fubbPe7Vyyh6"
      },
      "source": [
        "Create numpy arrays from the lists"
      ]
    },
    {
      "cell_type": "code",
      "execution_count": 15,
      "metadata": {
        "id": "il1hbrsbyyh7",
        "colab": {
          "base_uri": "https://localhost:8080/"
        },
        "outputId": "23de1fbd-c876-41ad-b19d-36d8daee6025"
      },
      "outputs": [
        {
          "output_type": "stream",
          "name": "stdout",
          "text": [
            "X_train shape: (45238, 4), y_train shape: (45238,)\n"
          ]
        }
      ],
      "source": [
        "X_train = np.array(X_train)\n",
        "y_train = np.array(y_train)\n",
        "print(f'X_train shape: {X_train.shape}, y_train shape: {y_train.shape}')"
      ]
    },
    {
      "cell_type": "markdown",
      "metadata": {
        "id": "Wb5Y3ERkyyh8"
      },
      "source": [
        "Reshape the X numpy array (n_examples, seq_lenght, 1)"
      ]
    },
    {
      "cell_type": "code",
      "execution_count": 16,
      "metadata": {
        "id": "T6mf5a4Dyyh8"
      },
      "outputs": [],
      "source": [
        "X_train = np.expand_dims(X_train, axis=-1)"
      ]
    },
    {
      "cell_type": "markdown",
      "metadata": {
        "id": "l7x4U0tCyyh9"
      },
      "source": [
        "Normalize X by dividing each values by the total number of unic characters"
      ]
    },
    {
      "cell_type": "code",
      "execution_count": 17,
      "metadata": {
        "id": "lHTjPnv4yyh9"
      },
      "outputs": [],
      "source": [
        "X_train = X_train / len(unic_chars)"
      ]
    },
    {
      "cell_type": "markdown",
      "metadata": {
        "id": "iWnIpi2uyyh9"
      },
      "source": [
        "Import Keras and build (at least) a two layered LSTM network with 128 neurone in each.\n",
        "\n",
        "You can also add Dropoutlayers\n",
        "\n",
        "Do you think you should use the return_sequences = True ? If yes, when ?\n",
        "\n",
        "\n",
        "Add a Dense layer on top with with the appropriate activation function and number of neurones\n"
      ]
    },
    {
      "cell_type": "code",
      "execution_count": 18,
      "metadata": {
        "id": "9a0Vz4L8yyiM",
        "colab": {
          "base_uri": "https://localhost:8080/"
        },
        "outputId": "b28597b5-eeb9-485a-b46e-5fc3b40bcce1"
      },
      "outputs": [
        {
          "output_type": "stream",
          "name": "stderr",
          "text": [
            "WARNING:tensorflow:Layer lstm will not use cuDNN kernels since it doesn't meet the criteria. It will use a generic GPU kernel as fallback when running on GPU.\n",
            "WARNING:tensorflow:Layer lstm_1 will not use cuDNN kernels since it doesn't meet the criteria. It will use a generic GPU kernel as fallback when running on GPU.\n"
          ]
        }
      ],
      "source": [
        "import tensorflow as tf\n",
        "from tensorflow.keras.models import Sequential\n",
        "from tensorflow.keras.layers import LSTM, Dense, Dropout\n",
        "from tensorflow.keras.optimizers import Adam\n",
        "\n",
        "\n",
        "model = Sequential()\n",
        "model.add(LSTM(128, return_sequences=True, input_shape=(X_train.shape[1], X_train.shape[2]), activation='sigmoid'))\n",
        "model.add(LSTM(128, return_sequences=False, activation='sigmoid'))\n",
        "model.add(Dense(len(unic_chars), activation='softmax'))"
      ]
    },
    {
      "cell_type": "markdown",
      "metadata": {
        "id": "q1cAV53EyyiN"
      },
      "source": [
        "Compile the model with the appropriate loss function and the adam optimizer"
      ]
    },
    {
      "cell_type": "code",
      "execution_count": 19,
      "metadata": {
        "id": "6q2XpZQ4yyiO"
      },
      "outputs": [],
      "source": [
        "model.compile(loss=tf.keras.losses.SparseCategoricalCrossentropy(),\n",
        "              optimizer=tf.keras.optimizers.Adam(learning_rate=1e-2),\n",
        "              metrics=['accuracy'])"
      ]
    },
    {
      "cell_type": "code",
      "source": [
        "model.summary()"
      ],
      "metadata": {
        "colab": {
          "base_uri": "https://localhost:8080/"
        },
        "id": "GgjF2H4VE7hk",
        "outputId": "dd6193bf-7303-4a8d-cd1a-ddfe4937d7a1"
      },
      "execution_count": 20,
      "outputs": [
        {
          "output_type": "stream",
          "name": "stdout",
          "text": [
            "Model: \"sequential\"\n",
            "_________________________________________________________________\n",
            " Layer (type)                Output Shape              Param #   \n",
            "=================================================================\n",
            " lstm (LSTM)                 (None, 4, 128)            66560     \n",
            "                                                                 \n",
            " lstm_1 (LSTM)               (None, 128)               131584    \n",
            "                                                                 \n",
            " dense (Dense)               (None, 33)                4257      \n",
            "                                                                 \n",
            "=================================================================\n",
            "Total params: 202401 (790.63 KB)\n",
            "Trainable params: 202401 (790.63 KB)\n",
            "Non-trainable params: 0 (0.00 Byte)\n",
            "_________________________________________________________________\n"
          ]
        }
      ]
    },
    {
      "cell_type": "markdown",
      "metadata": {
        "id": "ZIq8gdLyyyiP"
      },
      "source": [
        "Train the model on 20 epochs and 10 examples (yeah you read correctly) and check that the model overfits !"
      ]
    },
    {
      "cell_type": "code",
      "execution_count": 21,
      "metadata": {
        "id": "7Qm3jXR7yyiP",
        "colab": {
          "base_uri": "https://localhost:8080/"
        },
        "outputId": "4872f0a5-dc9b-4305-8e3d-2da7e05eb07b"
      },
      "outputs": [
        {
          "output_type": "stream",
          "name": "stdout",
          "text": [
            "Epoch 1/20\n",
            "1/1 [==============================] - 8s 8s/step - loss: 3.5621 - accuracy: 0.0000e+00 - val_loss: 2.8627 - val_accuracy: 0.5000\n",
            "Epoch 2/20\n",
            "1/1 [==============================] - 0s 61ms/step - loss: 2.0805 - accuracy: 0.3750 - val_loss: 3.5265 - val_accuracy: 0.5000\n",
            "Epoch 3/20\n",
            "1/1 [==============================] - 0s 43ms/step - loss: 1.7678 - accuracy: 0.3750 - val_loss: 4.1999 - val_accuracy: 0.5000\n",
            "Epoch 4/20\n",
            "1/1 [==============================] - 0s 45ms/step - loss: 1.5347 - accuracy: 0.3750 - val_loss: 4.9356 - val_accuracy: 0.0000e+00\n",
            "Epoch 5/20\n",
            "1/1 [==============================] - 0s 42ms/step - loss: 1.5848 - accuracy: 0.2500 - val_loss: 5.3477 - val_accuracy: 0.0000e+00\n",
            "Epoch 6/20\n",
            "1/1 [==============================] - 0s 47ms/step - loss: 1.5934 - accuracy: 0.2500 - val_loss: 5.5072 - val_accuracy: 0.0000e+00\n",
            "Epoch 7/20\n",
            "1/1 [==============================] - 0s 44ms/step - loss: 1.5302 - accuracy: 0.2500 - val_loss: 5.6055 - val_accuracy: 0.5000\n",
            "Epoch 8/20\n",
            "1/1 [==============================] - 0s 45ms/step - loss: 1.5029 - accuracy: 0.3750 - val_loss: 5.7338 - val_accuracy: 0.5000\n",
            "Epoch 9/20\n",
            "1/1 [==============================] - 0s 45ms/step - loss: 1.5211 - accuracy: 0.3750 - val_loss: 5.8936 - val_accuracy: 0.5000\n",
            "Epoch 10/20\n",
            "1/1 [==============================] - 0s 51ms/step - loss: 1.5339 - accuracy: 0.3750 - val_loss: 6.0735 - val_accuracy: 0.5000\n",
            "Epoch 11/20\n",
            "1/1 [==============================] - 0s 46ms/step - loss: 1.5208 - accuracy: 0.3750 - val_loss: 6.2713 - val_accuracy: 0.5000\n",
            "Epoch 12/20\n",
            "1/1 [==============================] - 0s 45ms/step - loss: 1.5017 - accuracy: 0.3750 - val_loss: 6.4776 - val_accuracy: 0.5000\n",
            "Epoch 13/20\n",
            "1/1 [==============================] - 0s 51ms/step - loss: 1.4973 - accuracy: 0.3750 - val_loss: 6.6676 - val_accuracy: 0.0000e+00\n",
            "Epoch 14/20\n",
            "1/1 [==============================] - 0s 51ms/step - loss: 1.5079 - accuracy: 0.2500 - val_loss: 6.8108 - val_accuracy: 0.0000e+00\n",
            "Epoch 15/20\n",
            "1/1 [==============================] - 0s 48ms/step - loss: 1.5181 - accuracy: 0.2500 - val_loss: 6.8921 - val_accuracy: 0.0000e+00\n",
            "Epoch 16/20\n",
            "1/1 [==============================] - 0s 42ms/step - loss: 1.5159 - accuracy: 0.2500 - val_loss: 6.9217 - val_accuracy: 0.5000\n",
            "Epoch 17/20\n",
            "1/1 [==============================] - 0s 47ms/step - loss: 1.5041 - accuracy: 0.3750 - val_loss: 6.9264 - val_accuracy: 0.5000\n",
            "Epoch 18/20\n",
            "1/1 [==============================] - 0s 53ms/step - loss: 1.4951 - accuracy: 0.3750 - val_loss: 6.9323 - val_accuracy: 0.5000\n",
            "Epoch 19/20\n",
            "1/1 [==============================] - 0s 62ms/step - loss: 1.4969 - accuracy: 0.3750 - val_loss: 6.9538 - val_accuracy: 0.5000\n",
            "Epoch 20/20\n",
            "1/1 [==============================] - 0s 56ms/step - loss: 1.5045 - accuracy: 0.3750 - val_loss: 6.9944 - val_accuracy: 0.5000\n"
          ]
        }
      ],
      "source": [
        "X_train_tensor = tf.convert_to_tensor(X_train[:10], dtype=tf.float32)\n",
        "y_train_tensor = tf.convert_to_tensor(y_train[:10], dtype=tf.float32)\n",
        "\n",
        "history = model.fit(X_train_tensor, y_train_tensor, epochs=20, validation_split=0.15)\n"
      ]
    },
    {
      "cell_type": "markdown",
      "metadata": {
        "id": "altB1J4xyyiQ"
      },
      "source": [
        "The loss curves indicate that the model is exhibiting overfitting, as it is closely fitting the training data."
      ]
    },
    {
      "cell_type": "code",
      "execution_count": 22,
      "metadata": {
        "id": "6SUJYSK7yyiQ",
        "colab": {
          "base_uri": "https://localhost:8080/",
          "height": 490
        },
        "outputId": "65220f63-6d70-4447-999c-c9a0a8152542"
      },
      "outputs": [
        {
          "output_type": "execute_result",
          "data": {
            "text/plain": [
              "<matplotlib.legend.Legend at 0x7bdd0c746260>"
            ]
          },
          "metadata": {},
          "execution_count": 22
        },
        {
          "output_type": "display_data",
          "data": {
            "text/plain": [
              "<Figure size 640x480 with 1 Axes>"
            ],
            "image/png": "[encoded data removed]"
          },
          "metadata": {}
        }
      ],
      "source": [
        "import matplotlib.pyplot as plt\n",
        "\n",
        "plt.plot(history.history['loss'])\n",
        "plt.plot(history.history['val_loss'])\n",
        "plt.title('Model loss')\n",
        "plt.ylabel('Loss')\n",
        "plt.xlabel('Epoch')\n",
        "plt.legend(['Train', 'Test'], loc='upper left')"
      ]
    },
    {
      "cell_type": "markdown",
      "metadata": {
        "id": "BMCFxz-wyyiR"
      },
      "source": [
        "Create a function **make_prediction(seed_start)** which takes a starting string sequence and uses it to generate a molecule\n"
      ]
    },
    {
      "cell_type": "code",
      "execution_count": 28,
      "metadata": {
        "id": "ulAAk9plyyiS"
      },
      "outputs": [],
      "source": [
        "def make_predictions(seed_start, model, char_to_int, int_to_char, seq_length, unic_chars, max_len=100):\n",
        "    molecule = seed_start\n",
        "    while True:\n",
        "        # Using List Comprehension\n",
        "        molecule_arr = np.array([char_to_int[char] for char in molecule[-seq_length:]])\n",
        "        molecule_arr = np.expand_dims(np.expand_dims(molecule_arr, -1), 0)\n",
        "        molecule_arr = molecule_arr / len(unic_chars)\n",
        "\n",
        "        prediction = model.predict(molecule_arr, verbose=0)[0]\n",
        "        next_char = int_to_char[np.argmax(prediction, axis=-1)]\n",
        "        molecule += next_char\n",
        "\n",
        "        if next_char == '\\n' or len(molecule) >= max_len:\n",
        "            break\n",
        "\n",
        "    return molecule\n"
      ]
    },
    {
      "cell_type": "markdown",
      "metadata": {
        "id": "cHb0mnp5yyiS"
      },
      "source": [
        "generate a molecule of your overfitted model"
      ]
    },
    {
      "cell_type": "code",
      "execution_count": 30,
      "metadata": {
        "id": "yWlnEs0-yyiT",
        "colab": {
          "base_uri": "https://localhost:8080/"
        },
        "outputId": "7e4641a8-0454-483c-89bd-48615fc66886"
      },
      "outputs": [
        {
          "output_type": "stream",
          "name": "stdout",
          "text": [
            "Generated Molecule: O=C1CCcccccccccccccccccccccccccccccccccccccccccccccccccccccccccccccccccccccccccccccccccccccccccccccc\n"
          ]
        }
      ],
      "source": [
        "seed_start = \"O=C1CC\"\n",
        "generated_molecule = make_predictions(\n",
        "    seed_start,\n",
        "    model,\n",
        "    char_to_int,\n",
        "    int_to_char,\n",
        "    seq_length,\n",
        "    unic_chars,\n",
        ")\n",
        "\n",
        "print(\"Generated Molecule:\", generated_molecule)\n"
      ]
    },
    {
      "cell_type": "markdown",
      "metadata": {
        "id": "AyZcbVC4yyiU"
      },
      "source": [
        "Make a model checkpoint so that the model is saved after each epoch\n",
        "if you train on a plateform and it stops you do not lose your training"
      ]
    },
    {
      "cell_type": "code",
      "execution_count": 31,
      "metadata": {
        "id": "hhOqrs9NyyiV"
      },
      "outputs": [],
      "source": [
        "from tensorflow.keras.callbacks import ModelCheckpoint\n",
        "\n",
        "path = \"model_checkpoint_epoch_{epoch:02d}.hdf5\"\n",
        "\n",
        "# Create a ModelCheckpoint callback\n",
        "checkpoint = ModelCheckpoint(path, monitor='val_loss', verbose=1,\n",
        "                             save_best_only=True, save_weights_only=False, mode='min', save_freq='epoch')\n"
      ]
    },
    {
      "cell_type": "markdown",
      "metadata": {
        "id": "chEa4hmZyyiV"
      },
      "source": [
        "Now go to your favorite plateform (colab or something else) and train the dataset on the whole data for 10 epochs and batch size 256\n",
        "\n",
        "it should take a long time so either follow the class or go take a nap"
      ]
    },
    {
      "cell_type": "code",
      "execution_count": null,
      "metadata": {
        "id": "-iyk8BvZyyiW"
      },
      "outputs": [],
      "source": []
    },
    {
      "cell_type": "markdown",
      "metadata": {
        "id": "QGzxqv3hyyiX"
      },
      "source": [
        "Generate between 100 and 1000 molecules.\n",
        "\n",
        "create a list where molecules have between 10 and 50 atoms"
      ]
    },
    {
      "cell_type": "code",
      "execution_count": null,
      "metadata": {
        "id": "9E9fhvHQyyiY"
      },
      "outputs": [],
      "source": []
    },
    {
      "cell_type": "markdown",
      "metadata": {
        "id": "eQwmMBBnyyiY"
      },
      "source": [
        "With rdkit compute the Quantified Estimated Drug likelyness (QED) of each molecule in this subset"
      ]
    },
    {
      "cell_type": "code",
      "execution_count": null,
      "metadata": {
        "id": "EPboRawUyyiZ"
      },
      "outputs": [],
      "source": []
    },
    {
      "cell_type": "markdown",
      "metadata": {
        "id": "9En9mvfOyyiZ"
      },
      "source": [
        "Bonus 1 : Using rdkit, compute the quantitative estimation of drug-likeness (QED) of your generated molecules."
      ]
    },
    {
      "cell_type": "code",
      "execution_count": null,
      "metadata": {
        "id": "xEVMckghyyia"
      },
      "outputs": [],
      "source": []
    },
    {
      "cell_type": "markdown",
      "metadata": {
        "id": "PtCbYnIuyyib"
      },
      "source": [
        "Bonus 2 : try to adapt a transformer model training from hugging face to see if it is better"
      ]
    },
    {
      "cell_type": "code",
      "execution_count": null,
      "metadata": {
        "id": "SnMy9_I1yyib"
      },
      "outputs": [],
      "source": []
    }
  ],
  "metadata": {
    "kernelspec": {
      "display_name": "Python 3",
      "name": "python3"
    },
    "language_info": {
      "codemirror_mode": {
        "name": "ipython",
        "version": 3
      },
      "file_extension": ".py",
      "mimetype": "text/x-python",
      "name": "python",
      "nbconvert_exporter": "python",
      "pygments_lexer": "ipython3",
      "version": "3.9.9"
    },
    "colab": {
      "provenance": [],
      "gpuType": "T4"
    },
    "accelerator": "GPU"
  },
  "nbformat": 4,
  "nbformat_minor": 0
}