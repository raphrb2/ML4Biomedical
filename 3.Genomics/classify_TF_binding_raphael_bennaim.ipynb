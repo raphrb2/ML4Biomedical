{
  "nbformat": 4,
  "nbformat_minor": 0,
  "metadata": {
    "colab": {
      "provenance": []
    },
    "kernelspec": {
      "name": "python3",
      "display_name": "Python 3"
    },
    "language_info": {
      "name": "python"
    }
  },
  "cells": [
    {
      "cell_type": "code",
      "source": [
        "!pip install numpy"
      ],
      "metadata": {
        "colab": {
          "base_uri": "https://localhost:8080/"
        },
        "id": "jTB3yc4g5fCz",
        "outputId": "37488806-dedc-44ce-eeda-5b699b896842"
      },
      "execution_count": 1,
      "outputs": [
        {
          "output_type": "stream",
          "name": "stdout",
          "text": [
            "Requirement already satisfied: numpy in /usr/local/lib/python3.10/dist-packages (1.23.5)\n"
          ]
        }
      ]
    },
    {
      "cell_type": "code",
      "source": [
        "from google.colab import drive\n",
        "drive.mount('/content/drive')"
      ],
      "metadata": {
        "colab": {
          "base_uri": "https://localhost:8080/"
        },
        "id": "oTXpZJWVBDMn",
        "outputId": "cddebd2a-7750-49b6-bbcd-c9ef031b9400"
      },
      "execution_count": 2,
      "outputs": [
        {
          "output_type": "stream",
          "name": "stdout",
          "text": [
            "Drive already mounted at /content/drive; to attempt to forcibly remount, call drive.mount(\"/content/drive\", force_remount=True).\n"
          ]
        }
      ]
    },
    {
      "cell_type": "code",
      "source": [
        "import numpy as np\n",
        "import joblib\n",
        "import matplotlib.pyplot as plt\n",
        "import torch\n",
        "import torch.optim as optim\n",
        "import torch.nn as nn\n",
        "import torch.nn.functional as F"
      ],
      "metadata": {
        "id": "XVwO1KpMEtMZ"
      },
      "execution_count": 3,
      "outputs": []
    },
    {
      "cell_type": "markdown",
      "metadata": {
        "id": "BpI9eESpkREM"
      },
      "source": [
        "# Ex1: Onehot coding DNA\n",
        "\n",
        "Write a function called **onehot_dna(dna_str)** that allows to encode a DNA segment where each base is encoded as a vector of all zeros except one in a specific position. The result of this function is an array numpy.  DNA is a long chain of repeating bases strung together. There are 4 bases: A, C, G, T. For example, \"AACCCAAATCGGGGG\" is a DNA segment.\n",
        "\n",
        "\n",
        "\n",
        "For example, **onehot_dna('AAT')** should return\n",
        "\n",
        "array([[1, 0, 0, 0],\n",
        "       [1, 0, 0, 0],\n",
        "       [0, 0, 0, 1]])\n",
        "\n",
        "\n",
        "\n",
        "\n"
      ]
    },
    {
      "cell_type": "code",
      "metadata": {
        "id": "YbhaCZP1moii"
      },
      "source": [
        "def onehot_dna(dna_str):\n",
        "    encoding_dict = {'A': [1, 0, 0, 0], 'C': [0, 1, 0, 0], 'G': [0, 0, 1, 0], 'T': [0, 0, 0, 1]}\n",
        "\n",
        "    onehot_list = [encoding_dict[base] for base in dna_str if base in encoding_dict]\n",
        "    return np.array(onehot_list)\n"
      ],
      "execution_count": 4,
      "outputs": []
    },
    {
      "cell_type": "code",
      "metadata": {
        "colab": {
          "base_uri": "https://localhost:8080/"
        },
        "id": "WM-BaQiGo82A",
        "outputId": "a340eb99-24fd-4f4e-e0d3-ab12c0ad3eb9"
      },
      "source": [
        "onehot_dna('AAT')"
      ],
      "execution_count": 5,
      "outputs": [
        {
          "output_type": "execute_result",
          "data": {
            "text/plain": [
              "array([[1, 0, 0, 0],\n",
              "       [1, 0, 0, 0],\n",
              "       [0, 0, 0, 1]])"
            ]
          },
          "metadata": {},
          "execution_count": 5
        }
      ]
    },
    {
      "cell_type": "markdown",
      "metadata": {
        "id": "AkSQo19z60n1"
      },
      "source": [
        "# Deep learning to classify Transcription Factor Biding\n",
        "\n",
        "\n",
        "In the next exercises, we will learn how to use Deep learning to predict whether a segment of DNA does include or does not include a sit where JUND binds. (JUND is a particular transcription factor).\n",
        "\n",
        "In this purpose, we will use data that is extracted from the chapter 6 of the book: 'Deep learning for the life science'. This book is written by B.Ramsundar, P.Eastman, P. Walters and V.Pande.\n",
        "\n",
        "\n",
        "Data consist of DNA segments that have been split up from a full chromosome. Each segment is of 101 bases long and has been labeled to indicate whether it does or does not include a site where JUND binds to.\n",
        "\n",
        "\n",
        "This is a binary classification problem.\n",
        "The process of creating a PyTorch neural network binary classifier consists of several steps:\n",
        "\n",
        "1. Prepare the training and test data\n",
        "\n",
        "2. Implement a Dataset object to serve up the data\n",
        "\n",
        "3. Design and implement a neural network\n",
        "\n",
        "4. Write code to train the network\n",
        "\n",
        "5. Write code to evaluate the model (the trained network)\n"
      ]
    },
    {
      "cell_type": "markdown",
      "metadata": {
        "id": "XS8a5oOmOjqO"
      },
      "source": [
        "# Ex 2:  Load Data\n",
        "\n",
        "1. With the help of the joblib library, load the following files for training set:  **y_train.joblib**, **X_train.joblib**  and then store the results in variables **y_train, X_train** ,respectively.\n",
        "\n",
        "2. Do the same thing for the test set: load  **y_test.joblib**, **X_test.joblib**  and then store the results in variables **y_test, X_test**, respectively.\n",
        "\n",
        "3. What are the shape of **X_train** and **y_train** ? How many DNA segments are there in traning set ?\n",
        "\n",
        "4. Display a DNA segment from **X_train** (using matplotlib.pyplot.imshow ).\n",
        "\n",
        "5. Plot the histogram of **y_train** to see whether data is imbalanced or not.\n"
      ]
    },
    {
      "cell_type": "code",
      "metadata": {
        "id": "NB5Y5StQezcZ"
      },
      "source": [
        "## 1.\n",
        "y_train = joblib.load('/content/drive/MyDrive/data/data/y_train.joblib')\n",
        "X_train = joblib.load('/content/drive/MyDrive/data/data/X_train.joblib')"
      ],
      "execution_count": 6,
      "outputs": []
    },
    {
      "cell_type": "code",
      "source": [
        "## 2.\n",
        "y_test = joblib.load('/content/drive/MyDrive/data/data/y_test.joblib')\n",
        "X_test = joblib.load('/content/drive/MyDrive/data/data/X_test.joblib')"
      ],
      "metadata": {
        "id": "Ry41n_BL8-jF"
      },
      "execution_count": 7,
      "outputs": []
    },
    {
      "cell_type": "code",
      "metadata": {
        "id": "FMLs0OOTV4E5",
        "colab": {
          "base_uri": "https://localhost:8080/"
        },
        "outputId": "b9e2cb05-7922-4af7-ab57-645e3907e750"
      },
      "source": [
        "## 3.\n",
        "print(\"X_train shape is:\", X_train.shape)\n",
        "print(\"y_train shape is:\", y_train.shape)\n",
        "print(\"There are\", X_train.shape[0], \"DNA segments in the training set\")"
      ],
      "execution_count": 8,
      "outputs": [
        {
          "output_type": "stream",
          "name": "stdout",
          "text": [
            "X_train shape is: (4672, 101, 4)\n",
            "y_train shape is: (4672, 1)\n",
            "There are 4672 DNA segments in the training set\n"
          ]
        }
      ]
    },
    {
      "cell_type": "code",
      "source": [
        "print(\"X_train shape is:\", X_test.shape)\n",
        "print(\"y_train shape is:\", y_test.shape)"
      ],
      "metadata": {
        "colab": {
          "base_uri": "https://localhost:8080/"
        },
        "id": "wCHPGn0ENO26",
        "outputId": "065c415c-14af-4463-9711-96c14bb875da"
      },
      "execution_count": 9,
      "outputs": [
        {
          "output_type": "stream",
          "name": "stdout",
          "text": [
            "X_train shape is: (584, 101, 4)\n",
            "y_train shape is: (584, 1)\n"
          ]
        }
      ]
    },
    {
      "cell_type": "code",
      "metadata": {
        "id": "TceRZcS3MENp",
        "colab": {
          "base_uri": "https://localhost:8080/",
          "height": 472
        },
        "outputId": "517ee2ed-7de6-44c2-d0a1-99ca476f77e9"
      },
      "source": [
        "## 4.\n",
        "dna_segment = X_train[0]\n",
        "fig = plt.figure()\n",
        "ax = fig.add_subplot(111)\n",
        "ax.imshow(dna_segment, cmap='hot', aspect='auto')\n",
        "ax.set_xticks(range(4), labels= ['A', 'C', 'G', 'T'])\n",
        "ax.set_xlabel('Bases')\n",
        "ax.set_ylabel('Positions')\n",
        "ax.set_title('DNA segment')\n",
        "plt.show()"
      ],
      "execution_count": 10,
      "outputs": [
        {
          "output_type": "display_data",
          "data": {
            "text/plain": [
              "<Figure size 640x480 with 1 Axes>"
            ],
            "image/png": "[encoded data removed]"
          },
          "metadata": {}
        }
      ]
    },
    {
      "cell_type": "code",
      "source": [
        "dna_segment.shape"
      ],
      "metadata": {
        "colab": {
          "base_uri": "https://localhost:8080/"
        },
        "id": "NAst5NCqwByd",
        "outputId": "7b0d42d4-7137-423a-cb8e-191eb6eb96ff"
      },
      "execution_count": 11,
      "outputs": [
        {
          "output_type": "execute_result",
          "data": {
            "text/plain": [
              "(101, 4)"
            ]
          },
          "metadata": {},
          "execution_count": 11
        }
      ]
    },
    {
      "cell_type": "code",
      "metadata": {
        "id": "xVwu_64FUcWU",
        "colab": {
          "base_uri": "https://localhost:8080/",
          "height": 472
        },
        "outputId": "fa9987f8-1352-49e7-a20b-adb1e21ec601"
      },
      "source": [
        "## 5.\n",
        "unique, counts = np.unique(y_train, return_counts=True)\n",
        "\n",
        "plt.bar(unique.astype(str), counts)\n",
        "plt.xlabel('Class')\n",
        "plt.ylabel('Frequency')\n",
        "plt.title('Class Distribution in y_train')\n",
        "plt.show()\n"
      ],
      "execution_count": 12,
      "outputs": [
        {
          "output_type": "display_data",
          "data": {
            "text/plain": [
              "<Figure size 640x480 with 1 Axes>"
            ],
            "image/png": "[encoded data removed]"
          },
          "metadata": {}
        }
      ]
    },
    {
      "cell_type": "markdown",
      "metadata": {
        "id": "EajNPJrnAmde"
      },
      "source": [
        "# Ex 3: Convert numpy array to tensor pytorch\n",
        "\n",
        "As you see in the previous exercise, **X_train** consists of 4672 segments. Each segment is encoded by 0 and 1 (one-hot encoding).\n",
        "\n",
        "\n",
        "1. Convert numpy array **X_train**, **y_train** into pytorch tensor. Reshape **X_train** to (4672, 4, 101). Note that the type of **X_train** and **y_train** should be float.\n",
        "\n",
        "2. Do the same thing for **X_test** and **y_test**\n"
      ]
    },
    {
      "cell_type": "code",
      "metadata": {
        "id": "E8eedW_yPUKu"
      },
      "source": [
        "## 1.\n",
        "\n",
        "X_train = torch.from_numpy(X_train).float().reshape(4672, 4, 101)\n",
        "y_train = torch.from_numpy(y_train).float()"
      ],
      "execution_count": 13,
      "outputs": []
    },
    {
      "cell_type": "code",
      "metadata": {
        "id": "Wn_0dOuVHWhs"
      },
      "source": [
        "## 2.\n",
        "X_test = torch.from_numpy(X_test).float().reshape(584, 4, 101)\n",
        "y_test = torch.from_numpy(y_test).float()\n"
      ],
      "execution_count": 14,
      "outputs": []
    },
    {
      "cell_type": "markdown",
      "metadata": {
        "id": "mEYJBjBdg547"
      },
      "source": [
        "# Ex4: Create Dataset\n",
        "In order to train a deep learning model with Pytorch, we need a pytorch dataset.\n",
        "The DNADataset class below allows for creating a pytorch Dataset from DNA segments and their labels.\n",
        "\n",
        "1. Using this class, create a dataset for training set. You should call it **train_dataset**\n",
        "\n",
        "2. Create **Dataloader** from **train_dataset**. You should call it **train_loader**.\n",
        "\n",
        "3. Do the same thing for the test set."
      ]
    },
    {
      "cell_type": "code",
      "metadata": {
        "id": "GkvyOQVggLz_"
      },
      "source": [
        "class DNADataset(torch.utils.data.Dataset):\n",
        "    def __init__(self, dna, labels):\n",
        "        self.labels = labels\n",
        "        self.dna = dna\n",
        "\n",
        "\n",
        "    def __len__(self):\n",
        "        return len(self.labels)\n",
        "\n",
        "\n",
        "    def __getitem__(self, idx):\n",
        "        label = self.labels[idx]\n",
        "        frag_dna = self.dna[idx]\n",
        "\n",
        "        sample = {'DNA': frag_dna, 'Class': label}\n",
        "\n",
        "        return sample"
      ],
      "execution_count": 15,
      "outputs": []
    },
    {
      "cell_type": "code",
      "metadata": {
        "id": "ZIUVVN_Qg8d1"
      },
      "source": [
        "## 1.\n",
        "train_dataset = DNADataset(X_train, y_train)"
      ],
      "execution_count": 16,
      "outputs": []
    },
    {
      "cell_type": "code",
      "source": [
        "## 2.\n",
        "train_loader = torch.utils.data.DataLoader(train_dataset, batch_size=32, shuffle=True)"
      ],
      "metadata": {
        "id": "_YQG76jIocW4"
      },
      "execution_count": 17,
      "outputs": []
    },
    {
      "cell_type": "code",
      "metadata": {
        "id": "kj3HNTW2HRer"
      },
      "source": [
        "## 3.\n",
        "test_dataset = DNADataset(X_test, y_test)\n",
        "test_loader = torch.utils.data.DataLoader(test_dataset, batch_size=32, shuffle=True)"
      ],
      "execution_count": 18,
      "outputs": []
    },
    {
      "cell_type": "markdown",
      "metadata": {
        "id": "VDcbP17Rb2xt"
      },
      "source": [
        "# Design and implement a convolutional neural network\n",
        "\n",
        "Now, it's time to build your model. This is a binary classification problem. We can use a convolution neural network, just like an image classification problem. However, since the size of a DNA segment is (4, 101), we will use 1D convolution instead of 2D convolution.\n",
        "\n",
        "\n",
        "\n",
        "Firstly, we will test how does a 1D convolution work on our data.\n",
        "\n"
      ]
    },
    {
      "cell_type": "markdown",
      "metadata": {
        "id": "xlPP4E3UfRYe"
      },
      "source": [
        "# EX 5: 1D Convolution\n",
        "\n",
        "1. With the help of the torch.nn.Conv1d class, create a 1D convolutional layer. You need to choose values for the following parameters: **in_channels**, **out_channels**, **kernel_size**.\n",
        "\n",
        "\n",
        "2. Apply this layer to **dna_seg** below. What is the size of the output ?\n",
        "\n",
        "\n",
        "3. [Optional] Display the output by using matplotlib.pyplot.imshow\n",
        "\n",
        "\n"
      ]
    },
    {
      "cell_type": "code",
      "metadata": {
        "id": "C9y0yRXhhj1F"
      },
      "source": [
        "## 1.\n",
        "in_channels = 4\n",
        "out_channels = 8\n",
        "kernel_size = 3\n",
        "conv1d = torch.nn.Conv1d(in_channels, out_channels, kernel_size)"
      ],
      "execution_count": 19,
      "outputs": []
    },
    {
      "cell_type": "code",
      "metadata": {
        "id": "FJ9uE489imxl",
        "colab": {
          "base_uri": "https://localhost:8080/"
        },
        "outputId": "565042a4-494c-4253-9962-df1cc602007e"
      },
      "source": [
        "## 2.\n",
        "dna_seg = train_dataset.dna[0]\n",
        "dna_seg.size()"
      ],
      "execution_count": 20,
      "outputs": [
        {
          "output_type": "execute_result",
          "data": {
            "text/plain": [
              "torch.Size([4, 101])"
            ]
          },
          "metadata": {},
          "execution_count": 20
        }
      ]
    },
    {
      "cell_type": "code",
      "source": [
        "output = conv1d(dna_seg)\n",
        "output.size()"
      ],
      "metadata": {
        "colab": {
          "base_uri": "https://localhost:8080/"
        },
        "id": "yMdTxkd62tUa",
        "outputId": "f1bab7b9-4e25-436d-bfc2-3a1042b3fa9e"
      },
      "execution_count": 21,
      "outputs": [
        {
          "output_type": "execute_result",
          "data": {
            "text/plain": [
              "torch.Size([8, 99])"
            ]
          },
          "metadata": {},
          "execution_count": 21
        }
      ]
    },
    {
      "cell_type": "code",
      "metadata": {
        "id": "UWvh59eVZfCf",
        "colab": {
          "base_uri": "https://localhost:8080/",
          "height": 472
        },
        "outputId": "46b9293c-22c8-4ed1-9522-b224011c5a55"
      },
      "source": [
        "## 3.\n",
        "dna_seg = dna_seg.unsqueeze(0)\n",
        "output = conv1d(dna_seg)\n",
        "\n",
        "\n",
        "output_numpy = output.detach().numpy().squeeze(0)\n",
        "\n",
        "plt.imshow(output_numpy, aspect='auto', cmap='viridis')\n",
        "plt.title('Conv1d Output Activations')\n",
        "plt.xlabel('Sequence Length')\n",
        "plt.ylabel('Output Channels/Filters')\n",
        "plt.colorbar(label='Activation')\n",
        "plt.show()"
      ],
      "execution_count": 22,
      "outputs": [
        {
          "output_type": "display_data",
          "data": {
            "text/plain": [
              "<Figure size 640x480 with 2 Axes>"
            ],
            "image/png": "[encoded data removed]"
          },
          "metadata": {}
        }
      ]
    },
    {
      "cell_type": "markdown",
      "metadata": {
        "id": "H26rAy0wkbca"
      },
      "source": [
        "# EX 6: Build a model\n",
        "\n",
        "The following code is used to build a CNN model for a classification problem. This model consists of :\n",
        "\n",
        "1. 3 layers of  1D-convolution. Each convolutional layer is followed by an activiation ReLu.\n",
        "\n",
        "2. 2 Linear layers\n",
        "\n",
        "\n",
        "Complete the lines # TODO below to finish the definition of this network."
      ]
    },
    {
      "cell_type": "code",
      "metadata": {
        "id": "L_bs8O3lhB7m"
      },
      "source": [
        "class DeepDNA(nn.Module):\n",
        "    def __init__(self, sequence_length):\n",
        "        \"\"\"\n",
        "        Parameters\n",
        "        -----------\n",
        "        sequence_length: int\n",
        "        num_class: int\n",
        "\n",
        "        \"\"\"\n",
        "        super(DeepDNA, self).__init__()\n",
        "\n",
        "        self.conv1 = nn.Conv1d(in_channels=4, out_channels=16, kernel_size=3)\n",
        "        self.conv2 = nn.Conv1d(in_channels=16, out_channels=32, kernel_size=3)\n",
        "        self.conv3 = nn.Conv1d(in_channels=32, out_channels=64, kernel_size=3)\n",
        "\n",
        "        sequence_length = sequence_length - 3 + 1\n",
        "        sequence_length = sequence_length - 3 + 1\n",
        "        sequence_length = sequence_length - 3 + 1\n",
        "\n",
        "        self.lin1 = nn.Linear(sequence_length * 64, 32)\n",
        "        self.lin2 = nn.Linear(32, 1)\n",
        "\n",
        "    def forward(self, x):\n",
        "        x = F.relu(self.conv1(x))\n",
        "        x = F.relu(self.conv2(x))\n",
        "        x = F.relu(self.conv3(x))\n",
        "\n",
        "        x = x.view(x.size(0), -1)\n",
        "\n",
        "        x = F.relu(self.lin1(x))\n",
        "        x = self.lin2(x)\n",
        "        x = torch.sigmoid(x)\n",
        "\n",
        "        return x"
      ],
      "execution_count": 23,
      "outputs": []
    },
    {
      "cell_type": "markdown",
      "metadata": {
        "id": "HVbFqM4laclu"
      },
      "source": [
        "# Ex 7 Test the model\n",
        "\n",
        "\n",
        "1. Create an instance of the DeepDNA class named **net**.\n",
        "\n",
        "2. Print out the variable **net** to see detailed information about the model.\n",
        "\n",
        "3. Pass **dna_seg** below to **net** in order to  test if your model **net** works well.\n",
        "\n",
        "4. What is the size of the output ?\n",
        "\n"
      ]
    },
    {
      "cell_type": "code",
      "metadata": {
        "id": "ladQCir7btvX"
      },
      "source": [
        "## 1.\n",
        "net = DeepDNA(sequence_length=101)"
      ],
      "execution_count": 24,
      "outputs": []
    },
    {
      "cell_type": "code",
      "metadata": {
        "id": "RFzp7DbtlTwG",
        "colab": {
          "base_uri": "https://localhost:8080/"
        },
        "outputId": "69d762df-3ec1-4f29-ac82-f76b987d5138"
      },
      "source": [
        "## 2.\n",
        "net"
      ],
      "execution_count": 25,
      "outputs": [
        {
          "output_type": "execute_result",
          "data": {
            "text/plain": [
              "DeepDNA(\n",
              "  (conv1): Conv1d(4, 16, kernel_size=(3,), stride=(1,))\n",
              "  (conv2): Conv1d(16, 32, kernel_size=(3,), stride=(1,))\n",
              "  (conv3): Conv1d(32, 64, kernel_size=(3,), stride=(1,))\n",
              "  (lin1): Linear(in_features=6080, out_features=32, bias=True)\n",
              "  (lin2): Linear(in_features=32, out_features=1, bias=True)\n",
              ")"
            ]
          },
          "metadata": {},
          "execution_count": 25
        }
      ]
    },
    {
      "cell_type": "code",
      "source": [
        "## 3.\n",
        "\n",
        "net.eval()\n",
        "output = net(dna_seg)\n",
        "print(output)\n"
      ],
      "metadata": {
        "id": "scFin6qzqBXd",
        "colab": {
          "base_uri": "https://localhost:8080/"
        },
        "outputId": "772d678a-11bf-41cf-aae5-6c49476571e2"
      },
      "execution_count": 26,
      "outputs": [
        {
          "output_type": "stream",
          "name": "stdout",
          "text": [
            "tensor([[0.5371]], grad_fn=<SigmoidBackward0>)\n"
          ]
        }
      ]
    },
    {
      "cell_type": "code",
      "source": [
        "## 4.\n",
        "output.size()"
      ],
      "metadata": {
        "id": "mpPkX7HLqCc-",
        "colab": {
          "base_uri": "https://localhost:8080/"
        },
        "outputId": "67b996ac-b253-4cf6-d8c0-2411f54a9496"
      },
      "execution_count": 27,
      "outputs": [
        {
          "output_type": "execute_result",
          "data": {
            "text/plain": [
              "torch.Size([1, 1])"
            ]
          },
          "metadata": {},
          "execution_count": 27
        }
      ]
    },
    {
      "cell_type": "markdown",
      "metadata": {
        "id": "yypmG11hr_so"
      },
      "source": [
        "# Ex 8: Define loss function and optimizer\n",
        "\n",
        "\n",
        "1. Define an SGD optimizer for the model. You need to choose the learning rate for your model.\n",
        "\n",
        "2. Define a Binary Cross Entropy (BCE) Loss  function.\n"
      ]
    },
    {
      "cell_type": "code",
      "metadata": {
        "id": "uZwQKSrxh1A_"
      },
      "source": [
        "## 1.\n",
        "optimizer = optim.SGD(net.parameters(), lr=0.01)\n",
        "\n",
        "## 2.\n",
        "criterion = nn.BCELoss()\n"
      ],
      "execution_count": 28,
      "outputs": []
    },
    {
      "cell_type": "markdown",
      "metadata": {
        "id": "7rEjVjhetI6A"
      },
      "source": [
        "# Ex 9: Training your model\n",
        "\n",
        "The following function allows to train the model for one epoch. This function returns total loss per epoch.\n",
        "Implement the training pass for this function.\n",
        "\n",
        "\n",
        "\n",
        "The general process with PyTorch for one learning step consits of several steps:\n",
        "\n",
        "1. Make a forward pass through the network\n",
        "2. Use the network output to calculate the loss\n",
        "3. Perform a backward pass through the network with loss.backward() to calculate the gradients\n",
        "4. Take a step with the optimizer to update the weights\n",
        "\n"
      ]
    },
    {
      "cell_type": "code",
      "metadata": {
        "id": "oAil9eU9iNCf"
      },
      "source": [
        "def train_one_epoch(model, train_loader, criterion, optimizer):\n",
        "    model.train()\n",
        "    total_loss = 0.0\n",
        "\n",
        "    for batch in train_loader:\n",
        "        dna = batch['DNA']\n",
        "        labels = batch['Class'].view(-1, 1)\n",
        "\n",
        "        optimizer.zero_grad()\n",
        "\n",
        "        outputs = model(dna)\n",
        "\n",
        "        loss = criterion(outputs, labels.float())\n",
        "\n",
        "        loss.backward()\n",
        "\n",
        "        optimizer.step()\n",
        "\n",
        "        total_loss += loss.item() * len(labels)\n",
        "\n",
        "    return total_loss / len(train_loader.dataset)"
      ],
      "execution_count": 29,
      "outputs": []
    },
    {
      "cell_type": "markdown",
      "metadata": {
        "id": "Pz0VV2Oenftq"
      },
      "source": [
        "# Ex 11: Accuracy Calculation\n",
        "\n",
        "Write a function named **compute_num_correct_pred(y_prob, y_label)** that allows to compute the number of correct predictions. **y_prob** and **y_label** should be pytorch tensors.\n",
        "\n",
        "For example,\n",
        "y_prob = [[0.3],[0.4], [0.8], [0.7]].\n",
        "\n",
        "y = [[0], [1], [1], [0]].\n",
        "\n",
        "This function should return 2."
      ]
    },
    {
      "cell_type": "code",
      "source": [
        "def compute_num_correct_pred(y_prob, y_label):\n",
        "    y_pred = (y_prob > 0.5).float()\n",
        "    correct = (y_pred == y_label).float().sum()\n",
        "    return int(correct)\n"
      ],
      "metadata": {
        "id": "iS3MjFaRFE7R"
      },
      "execution_count": 30,
      "outputs": []
    },
    {
      "cell_type": "code",
      "source": [
        "y_prob = torch.tensor([[0.3],[0.4], [0.8], [0.7]])\n",
        "y_label = torch.tensor([[0], [1], [1], [0]])\n",
        "\n",
        "num_correct = compute_num_correct_pred(y_prob, y_label)\n",
        "print(num_correct)"
      ],
      "metadata": {
        "colab": {
          "base_uri": "https://localhost:8080/"
        },
        "id": "pLBnFL3kFUU7",
        "outputId": "6a9a54c1-91a7-496a-92b9-fb0da1d3266f"
      },
      "execution_count": 31,
      "outputs": [
        {
          "output_type": "stream",
          "name": "stdout",
          "text": [
            "2\n"
          ]
        }
      ]
    },
    {
      "cell_type": "markdown",
      "metadata": {
        "id": "3N_g4DA-vex8"
      },
      "source": [
        "\n",
        "The function below allows to calculate the accuracy of the model on dataset loader. Execute this function to see if you implemented the compute_num_correct_pred function correctly."
      ]
    },
    {
      "cell_type": "code",
      "metadata": {
        "id": "FY9V2-NCvv25"
      },
      "source": [
        "def test(loader):\n",
        "  net.eval()\n",
        "\n",
        "  correct = 0\n",
        "  with torch.no_grad():\n",
        "    for data in loader:\n",
        "      dna = data['DNA']\n",
        "      y = data['Class']\n",
        "\n",
        "      out = net(dna)\n",
        "      correct += compute_num_correct_pred(out, y)\n",
        "\n",
        "  return correct / len(loader.dataset)"
      ],
      "execution_count": 32,
      "outputs": []
    },
    {
      "cell_type": "code",
      "source": [
        "accuracy = test(train_loader)\n",
        "print(f'Model Accuracy: {accuracy * 100:.2f}%')"
      ],
      "metadata": {
        "colab": {
          "base_uri": "https://localhost:8080/"
        },
        "id": "S_P6eMx2F1ca",
        "outputId": "d47045d0-35aa-4826-9777-523dfd7caafe"
      },
      "execution_count": 33,
      "outputs": [
        {
          "output_type": "stream",
          "name": "stdout",
          "text": [
            "Model Accuracy: 25.00%\n"
          ]
        }
      ]
    },
    {
      "cell_type": "markdown",
      "metadata": {
        "id": "I0vTKeeQ3wGb"
      },
      "source": [
        "# Ex 12: Training the model\n",
        "\n",
        "Write code to train your model on 10 epoches to see if everything is going well and then you can try to add more epoches.\n"
      ]
    },
    {
      "cell_type": "code",
      "metadata": {
        "id": "K-vkWpKLixGE",
        "colab": {
          "base_uri": "https://localhost:8080/"
        },
        "outputId": "56a0dd63-71c7-48ca-c2d3-ebe846260ba9"
      },
      "source": [
        "num_epochs = 30\n",
        "train_losses = []\n",
        "test_accuracies = []\n",
        "\n",
        "for epoch in range(num_epochs):\n",
        "    # Training\n",
        "    epoch_loss = train_one_epoch(net, train_loader, criterion, optimizer)\n",
        "    train_losses.append(epoch_loss)\n",
        "\n",
        "    # Evaluating the test set\n",
        "    test_accuracy = test(test_loader)\n",
        "    test_accuracies.append(test_accuracy)\n",
        "\n",
        "    print(f\"Epoch {epoch+1}, Loss: {epoch_loss}, Test Accuracy: {test_accuracy * 100}%\")\n"
      ],
      "execution_count": 34,
      "outputs": [
        {
          "output_type": "stream",
          "name": "stdout",
          "text": [
            "Epoch 1, Loss: 0.6129359525360473, Test Accuracy: 75.0%\n",
            "Epoch 2, Loss: 0.5627387078249291, Test Accuracy: 75.0%\n",
            "Epoch 3, Loss: 0.5622615016078296, Test Accuracy: 75.0%\n",
            "Epoch 4, Loss: 0.5626124692698048, Test Accuracy: 75.0%\n",
            "Epoch 5, Loss: 0.5620966914990176, Test Accuracy: 75.0%\n",
            "Epoch 6, Loss: 0.5626413646626146, Test Accuracy: 75.0%\n",
            "Epoch 7, Loss: 0.5621760342627355, Test Accuracy: 75.0%\n",
            "Epoch 8, Loss: 0.5625590432996619, Test Accuracy: 75.0%\n",
            "Epoch 9, Loss: 0.562374472209852, Test Accuracy: 75.0%\n",
            "Epoch 10, Loss: 0.5622115555691393, Test Accuracy: 75.0%\n",
            "Epoch 11, Loss: 0.5623733774848181, Test Accuracy: 75.0%\n",
            "Epoch 12, Loss: 0.5619834763546513, Test Accuracy: 75.0%\n",
            "Epoch 13, Loss: 0.5620883766510715, Test Accuracy: 75.0%\n",
            "Epoch 14, Loss: 0.5620670514563991, Test Accuracy: 75.0%\n",
            "Epoch 15, Loss: 0.5622066665593892, Test Accuracy: 75.0%\n",
            "Epoch 16, Loss: 0.5618156866259771, Test Accuracy: 75.0%\n",
            "Epoch 17, Loss: 0.5613404832882424, Test Accuracy: 75.0%\n",
            "Epoch 18, Loss: 0.5621930389371637, Test Accuracy: 75.0%\n",
            "Epoch 19, Loss: 0.5619574366775277, Test Accuracy: 75.0%\n",
            "Epoch 20, Loss: 0.561920190306559, Test Accuracy: 75.0%\n",
            "Epoch 21, Loss: 0.5616348304160653, Test Accuracy: 75.0%\n",
            "Epoch 22, Loss: 0.5615924658024147, Test Accuracy: 75.0%\n",
            "Epoch 23, Loss: 0.561702311038971, Test Accuracy: 75.0%\n",
            "Epoch 24, Loss: 0.5616683588452536, Test Accuracy: 75.0%\n",
            "Epoch 25, Loss: 0.5611996716015959, Test Accuracy: 75.0%\n",
            "Epoch 26, Loss: 0.5614063131482634, Test Accuracy: 75.0%\n",
            "Epoch 27, Loss: 0.5614084295214039, Test Accuracy: 75.0%\n",
            "Epoch 28, Loss: 0.5612631293192302, Test Accuracy: 75.0%\n",
            "Epoch 29, Loss: 0.5612254161132525, Test Accuracy: 75.0%\n",
            "Epoch 30, Loss: 0.56109558821541, Test Accuracy: 75.0%\n"
          ]
        }
      ]
    },
    {
      "cell_type": "markdown",
      "metadata": {
        "id": "WX_FGbp4tV0Z"
      },
      "source": [
        "# Ex13 (optional)\n",
        "\n",
        "1. If we use torch.nn.BCEWithLogitsLoss(), what does we need to change to the definition of the model ?\n",
        "\n",
        "\n",
        "2. The same question for torch.nn.CrossEntropyLoss() loss.  "
      ]
    },
    {
      "cell_type": "code",
      "metadata": {
        "id": "0l-GFUSOmOIr"
      },
      "source": [],
      "execution_count": 34,
      "outputs": []
    }
  ]
}