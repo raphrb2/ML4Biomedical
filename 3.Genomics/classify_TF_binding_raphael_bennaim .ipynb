{
  "cells": [
    {
      "cell_type": "code",
      "execution_count": 27,
      "metadata": {
        "colab": {
          "base_uri": "https://localhost:8080/"
        },
        "id": "jTB3yc4g5fCz",
        "outputId": "d98ddb1f-e761-4bad-a8f5-d98bc13af9d3"
      },
      "outputs": [
        {
          "name": "stdout",
          "output_type": "stream",
          "text": [
            "Requirement already satisfied: numpy in /usr/local/lib/python3.10/dist-packages (1.23.5)\n"
          ]
        }
      ],
      "source": [
        "!pip install numpy"
      ]
    },
    {
      "cell_type": "code",
      "execution_count": 28,
      "metadata": {
        "colab": {
          "base_uri": "https://localhost:8080/"
        },
        "id": "oTXpZJWVBDMn",
        "outputId": "d50c7e1a-9a03-40fc-b567-8dff14e1e8a3"
      },
      "outputs": [
        {
          "name": "stdout",
          "output_type": "stream",
          "text": [
            "Drive already mounted at /content/drive; to attempt to forcibly remount, call drive.mount(\"/content/drive\", force_remount=True).\n"
          ]
        }
      ],
      "source": [
        "from google.colab import drive\n",
        "drive.mount('/content/drive')"
      ]
    },
    {
      "cell_type": "markdown",
      "metadata": {},
      "source": [
        "## Imports"
      ]
    },
    {
      "cell_type": "code",
      "execution_count": 29,
      "metadata": {
        "id": "XVwO1KpMEtMZ"
      },
      "outputs": [],
      "source": [
        "import numpy as np\n",
        "import joblib\n",
        "import matplotlib.pyplot as plt\n",
        "import torch\n",
        "import torch.optim as optim\n",
        "import torch.nn as nn\n",
        "import torch.nn.functional as F"
      ]
    },
    {
      "cell_type": "markdown",
      "metadata": {
        "id": "BpI9eESpkREM"
      },
      "source": [
        "# Ex1: Onehot coding DNA\n",
        "\n",
        "Write a function called **onehot_dna(dna_str)** that allows to encode a DNA segment where each base is encoded as a vector of all zeros except one in a specific position. The result of this function is an array numpy.  DNA is a long chain of repeating bases strung together. There are 4 bases: A, C, G, T. For example, \"AACCCAAATCGGGGG\" is a DNA segment.\n",
        "\n",
        "\n",
        "\n",
        "For example, **onehot_dna('AAT')** should return\n",
        "\n",
        "array([[1, 0, 0, 0],\n",
        "       [1, 0, 0, 0],\n",
        "       [0, 0, 0, 1]])\n",
        "\n",
        "\n",
        "\n",
        "\n"
      ]
    },
    {
      "cell_type": "code",
      "execution_count": 30,
      "metadata": {
        "id": "YbhaCZP1moii"
      },
      "outputs": [],
      "source": [
        "def onehot_dna(dna_str):\n",
        "    encoding_dict = {'A': [1, 0, 0, 0], 'C': [0, 1, 0, 0], 'G': [0, 0, 1, 0], 'T': [0, 0, 0, 1]}\n",
        "\n",
        "    onehot_list = [encoding_dict[base] for base in dna_str if base in encoding_dict]\n",
        "    return np.array(onehot_list)\n"
      ]
    },
    {
      "cell_type": "code",
      "execution_count": 31,
      "metadata": {
        "colab": {
          "base_uri": "https://localhost:8080/"
        },
        "id": "WM-BaQiGo82A",
        "outputId": "b5614608-a6e9-4fa5-93b0-0c4556a7dc56"
      },
      "outputs": [
        {
          "data": {
            "text/plain": [
              "array([[1, 0, 0, 0],\n",
              "       [1, 0, 0, 0],\n",
              "       [0, 0, 0, 1]])"
            ]
          },
          "execution_count": 31,
          "metadata": {},
          "output_type": "execute_result"
        }
      ],
      "source": [
        "onehot_dna('AAT')"
      ]
    },
    {
      "cell_type": "markdown",
      "metadata": {
        "id": "AkSQo19z60n1"
      },
      "source": [
        "# Deep learning to classify Transcription Factor Biding\n",
        "\n",
        "\n",
        "In the next exercises, we will learn how to use Deep learning to predict whether a segment of DNA does include or does not include a sit where JUND binds. (JUND is a particular transcription factor).\n",
        "\n",
        "In this purpose, we will use data that is extracted from the chapter 6 of the book: 'Deep learning for the life science'. This book is written by B.Ramsundar, P.Eastman, P. Walters and V.Pande.\n",
        "\n",
        "\n",
        "Data consist of DNA segments that have been split up from a full chromosome. Each segment is of 101 bases long and has been labeled to indicate whether it does or does not include a site where JUND binds to.\n",
        "\n",
        "\n",
        "This is a binary classification problem.\n",
        "The process of creating a PyTorch neural network binary classifier consists of several steps:\n",
        "\n",
        "1. Prepare the training and test data\n",
        "\n",
        "2. Implement a Dataset object to serve up the data\n",
        "\n",
        "3. Design and implement a neural network\n",
        "\n",
        "4. Write code to train the network\n",
        "\n",
        "5. Write code to evaluate the model (the trained network)\n"
      ]
    },
    {
      "cell_type": "markdown",
      "metadata": {
        "id": "XS8a5oOmOjqO"
      },
      "source": [
        "# Ex 2:  Load Data\n",
        "\n",
        "1. With the help of the joblib library, load the following files for training set:  **y_train.joblib**, **X_train.joblib**  and then store the results in variables **y_train, X_train** ,respectively.\n",
        "\n",
        "2. Do the same thing for the test set: load  **y_test.joblib**, **X_test.joblib**  and then store the results in variables **y_test, X_test**, respectively.\n",
        "\n",
        "3. What are the shape of **X_train** and **y_train** ? How many DNA segments are there in traning set ?\n",
        "\n",
        "4. Display a DNA segment from **X_train** (using matplotlib.pyplot.imshow ).\n",
        "\n",
        "5. Plot the histogram of **y_train** to see whether data is imbalanced or not.\n"
      ]
    },
    {
      "cell_type": "code",
      "execution_count": 32,
      "metadata": {
        "id": "NB5Y5StQezcZ"
      },
      "outputs": [],
      "source": [
        "## 1.\n",
        "y_train = joblib.load('/content/drive/MyDrive/data/data/y_train.joblib')\n",
        "X_train = joblib.load('/content/drive/MyDrive/data/data/X_train.joblib')"
      ]
    },
    {
      "cell_type": "code",
      "execution_count": 33,
      "metadata": {
        "id": "Ry41n_BL8-jF"
      },
      "outputs": [],
      "source": [
        "## 2.\n",
        "y_test = joblib.load('/content/drive/MyDrive/data/data/y_test.joblib')\n",
        "X_test = joblib.load('/content/drive/MyDrive/data/data/X_test.joblib')"
      ]
    },
    {
      "cell_type": "code",
      "execution_count": 34,
      "metadata": {
        "colab": {
          "base_uri": "https://localhost:8080/"
        },
        "id": "FMLs0OOTV4E5",
        "outputId": "01c556c0-d11c-4466-b765-555a98e21a4a"
      },
      "outputs": [
        {
          "name": "stdout",
          "output_type": "stream",
          "text": [
            "X_train shape is: (4672, 101, 4)\n",
            "y_train shape is: (4672, 1)\n",
            "There are 4672 DNA segments in the training set\n"
          ]
        }
      ],
      "source": [
        "## 3.\n",
        "print(\"X_train shape is:\", X_train.shape)\n",
        "print(\"y_train shape is:\", y_train.shape)\n",
        "print(\"There are\", X_train.shape[0], \"DNA segments in the training set\")"
      ]
    },
    {
      "cell_type": "code",
      "execution_count": 35,
      "metadata": {
        "colab": {
          "base_uri": "https://localhost:8080/"
        },
        "id": "wCHPGn0ENO26",
        "outputId": "9cc643d8-0a6e-496b-e949-e77ca5126620"
      },
      "outputs": [
        {
          "name": "stdout",
          "output_type": "stream",
          "text": [
            "X_train shape is: (584, 101, 4)\n",
            "y_train shape is: (584, 1)\n"
          ]
        }
      ],
      "source": [
        "print(\"X_train shape is:\", X_test.shape)\n",
        "print(\"y_train shape is:\", y_test.shape)"
      ]
    },
    {
      "cell_type": "code",
      "execution_count": 36,
      "metadata": {
        "colab": {
          "base_uri": "https://localhost:8080/",
          "height": 472
        },
        "id": "TceRZcS3MENp",
        "outputId": "367841b4-5909-43aa-c0e9-4753a01b6f13"
      },
      "outputs": [
        {
          "data": {
            "image/png": "[encoded data removed]",
            "text/plain": [
              "<Figure size 640x480 with 1 Axes>"
            ]
          },
          "metadata": {},
          "output_type": "display_data"
        }
      ],
      "source": [
        "## 4.\n",
        "dna_segment = X_train[0]\n",
        "fig = plt.figure()\n",
        "ax = fig.add_subplot(111)\n",
        "ax.imshow(dna_segment, cmap='hot', aspect='auto')\n",
        "ax.set_xticks(range(4), labels= ['A', 'C', 'G', 'T'])\n",
        "ax.set_xlabel('Bases')\n",
        "ax.set_ylabel('Positions')\n",
        "ax.set_title('DNA segment')\n",
        "plt.show()"
      ]
    },
    {
      "cell_type": "code",
      "execution_count": 37,
      "metadata": {
        "colab": {
          "base_uri": "https://localhost:8080/"
        },
        "id": "NAst5NCqwByd",
        "outputId": "c7ba4efe-7c52-46dc-df1c-042520b12be0"
      },
      "outputs": [
        {
          "data": {
            "text/plain": [
              "(101, 4)"
            ]
          },
          "execution_count": 37,
          "metadata": {},
          "output_type": "execute_result"
        }
      ],
      "source": [
        "dna_segment.shape"
      ]
    },
    {
      "cell_type": "code",
      "execution_count": 38,
      "metadata": {
        "colab": {
          "base_uri": "https://localhost:8080/",
          "height": 472
        },
        "id": "xVwu_64FUcWU",
        "outputId": "3e208ee4-25a3-4753-c124-bb79d74ce821"
      },
      "outputs": [
        {
          "data": {
            "image/png": "[encoded data removed]",
            "text/plain": [
              "<Figure size 640x480 with 1 Axes>"
            ]
          },
          "metadata": {},
          "output_type": "display_data"
        }
      ],
      "source": [
        "## 5.\n",
        "unique, counts = np.unique(y_train, return_counts=True)\n",
        "\n",
        "plt.bar(unique.astype(str), counts)\n",
        "plt.xlabel('Class')\n",
        "plt.ylabel('Frequency')\n",
        "plt.title('Class Distribution in y_train')\n",
        "plt.show()\n"
      ]
    },
    {
      "cell_type": "markdown",
      "metadata": {
        "id": "EajNPJrnAmde"
      },
      "source": [
        "# Ex 3: Convert numpy array to tensor pytorch\n",
        "\n",
        "As you see in the previous exercise, **X_train** consists of 4672 segments. Each segment is encoded by 0 and 1 (one-hot encoding).\n",
        "\n",
        "\n",
        "1. Convert numpy array **X_train**, **y_train** into pytorch tensor. Reshape **X_train** to (4672, 4, 101). Note that the type of **X_train** and **y_train** should be float.\n",
        "\n",
        "2. Do the same thing for **X_test** and **y_test**\n"
      ]
    },
    {
      "cell_type": "code",
      "execution_count": 39,
      "metadata": {
        "id": "E8eedW_yPUKu"
      },
      "outputs": [],
      "source": [
        "## 1.\n",
        "\n",
        "X_train = torch.from_numpy(X_train).float().reshape(4672, 4, 101)\n",
        "y_train = torch.from_numpy(y_train).float()"
      ]
    },
    {
      "cell_type": "code",
      "execution_count": 40,
      "metadata": {
        "id": "Wn_0dOuVHWhs"
      },
      "outputs": [],
      "source": [
        "## 2.\n",
        "X_test = torch.from_numpy(X_test).float().reshape(584, 4, 101)\n",
        "y_test = torch.from_numpy(y_test).float()\n"
      ]
    },
    {
      "cell_type": "markdown",
      "metadata": {
        "id": "mEYJBjBdg547"
      },
      "source": [
        "# Ex4: Create Dataset\n",
        "In order to train a deep learning model with Pytorch, we need a pytorch dataset.\n",
        "The DNADataset class below allows for creating a pytorch Dataset from DNA segments and their labels.\n",
        "\n",
        "1. Using this class, create a dataset for training set. You should call it **train_dataset**\n",
        "\n",
        "2. Create **Dataloader** from **train_dataset**. You should call it **train_loader**.\n",
        "\n",
        "3. Do the same thing for the test set."
      ]
    },
    {
      "cell_type": "code",
      "execution_count": 41,
      "metadata": {
        "id": "GkvyOQVggLz_"
      },
      "outputs": [],
      "source": [
        "class DNADataset(torch.utils.data.Dataset):\n",
        "    def __init__(self, dna, labels):\n",
        "        self.labels = labels\n",
        "        self.dna = dna\n",
        "\n",
        "\n",
        "    def __len__(self):\n",
        "        return len(self.labels)\n",
        "\n",
        "\n",
        "    def __getitem__(self, idx):\n",
        "        label = self.labels[idx]\n",
        "        frag_dna = self.dna[idx]\n",
        "\n",
        "        sample = {'DNA': frag_dna, 'Class': label}\n",
        "\n",
        "        return sample"
      ]
    },
    {
      "cell_type": "code",
      "execution_count": 42,
      "metadata": {
        "id": "ZIUVVN_Qg8d1"
      },
      "outputs": [],
      "source": [
        "## 1.\n",
        "train_dataset = DNADataset(X_train, y_train)"
      ]
    },
    {
      "cell_type": "code",
      "execution_count": 43,
      "metadata": {
        "id": "_YQG76jIocW4"
      },
      "outputs": [],
      "source": [
        "## 2.\n",
        "train_loader = torch.utils.data.DataLoader(train_dataset, batch_size=32, shuffle=True)"
      ]
    },
    {
      "cell_type": "code",
      "execution_count": 44,
      "metadata": {
        "id": "kj3HNTW2HRer"
      },
      "outputs": [],
      "source": [
        "## 3.\n",
        "test_dataset = DNADataset(X_test, y_test)\n",
        "test_loader = torch.utils.data.DataLoader(test_dataset, batch_size=32, shuffle=True)"
      ]
    },
    {
      "cell_type": "markdown",
      "metadata": {
        "id": "VDcbP17Rb2xt"
      },
      "source": [
        "# Design and implement a convolutional neural network\n",
        "\n",
        "Now, it's time to build your model. This is a binary classification problem. We can use a convolution neural network, just like an image classification problem. However, since the size of a DNA segment is (4, 101), we will use 1D convolution instead of 2D convolution.\n",
        "\n",
        "\n",
        "\n",
        "Firstly, we will test how does a 1D convolution work on our data.\n",
        "\n"
      ]
    },
    {
      "cell_type": "markdown",
      "metadata": {
        "id": "xlPP4E3UfRYe"
      },
      "source": [
        "# EX 5: 1D Convolution\n",
        "\n",
        "1. With the help of the torch.nn.Conv1d class, create a 1D convolutional layer. You need to choose values for the following parameters: **in_channels**, **out_channels**, **kernel_size**.\n",
        "\n",
        "\n",
        "2. Apply this layer to **dna_seg** below. What is the size of the output ?\n",
        "\n",
        "\n",
        "3. [Optional] Display the output by using matplotlib.pyplot.imshow\n",
        "\n",
        "\n"
      ]
    },
    {
      "cell_type": "code",
      "execution_count": 45,
      "metadata": {
        "id": "C9y0yRXhhj1F"
      },
      "outputs": [],
      "source": [
        "## 1.\n",
        "in_channels = 4\n",
        "out_channels = 8\n",
        "kernel_size = 3\n",
        "conv1d = torch.nn.Conv1d(in_channels, out_channels, kernel_size)"
      ]
    },
    {
      "cell_type": "code",
      "execution_count": 46,
      "metadata": {
        "colab": {
          "base_uri": "https://localhost:8080/"
        },
        "id": "FJ9uE489imxl",
        "outputId": "a4e306f0-1dcc-4f90-919c-8f73b0c6d25b"
      },
      "outputs": [
        {
          "data": {
            "text/plain": [
              "torch.Size([4, 101])"
            ]
          },
          "execution_count": 46,
          "metadata": {},
          "output_type": "execute_result"
        }
      ],
      "source": [
        "## 2.\n",
        "dna_seg = train_dataset.dna[0]\n",
        "dna_seg.size()"
      ]
    },
    {
      "cell_type": "code",
      "execution_count": 47,
      "metadata": {
        "colab": {
          "base_uri": "https://localhost:8080/"
        },
        "id": "yMdTxkd62tUa",
        "outputId": "06c54138-0ef2-44d6-875c-ede140ec9111"
      },
      "outputs": [
        {
          "data": {
            "text/plain": [
              "torch.Size([8, 99])"
            ]
          },
          "execution_count": 47,
          "metadata": {},
          "output_type": "execute_result"
        }
      ],
      "source": [
        "output = conv1d(dna_seg)\n",
        "output.size()"
      ]
    },
    {
      "cell_type": "code",
      "execution_count": 48,
      "metadata": {
        "colab": {
          "base_uri": "https://localhost:8080/",
          "height": 472
        },
        "id": "UWvh59eVZfCf",
        "outputId": "6c60b313-e2a4-4249-eb0a-c1c6fa58bebf"
      },
      "outputs": [
        {
          "data": {
            "image/png": "[encoded data removed]",
            "text/plain": [
              "<Figure size 640x480 with 2 Axes>"
            ]
          },
          "metadata": {},
          "output_type": "display_data"
        }
      ],
      "source": [
        "## 3.\n",
        "dna_seg = dna_seg.unsqueeze(0)  # Adds the batch_size dimension if not added before\n",
        "output = conv1d(dna_seg)\n",
        "\n",
        "# Convert the output tensor to a numpy array\n",
        "output_numpy = output.detach().numpy().squeeze(0)  # Removing batch dimension for visualization\n",
        "\n",
        "# Plot the activations\n",
        "plt.imshow(output_numpy, aspect='auto', cmap='viridis')\n",
        "plt.title('Conv1d Output Activations')\n",
        "plt.xlabel('Sequence Length')\n",
        "plt.ylabel('Output Channels/Filters')\n",
        "plt.colorbar(label='Activation')\n",
        "plt.show()"
      ]
    },
    {
      "cell_type": "markdown",
      "metadata": {
        "id": "H26rAy0wkbca"
      },
      "source": [
        "# EX 6: Build a model\n",
        "\n",
        "The following code is used to build a CNN model for a classification problem. This model consists of :\n",
        "\n",
        "1. 3 layers of  1D-convolution. Each convolutional layer is followed by an activiation ReLu.\n",
        "\n",
        "2. 2 Linear layers\n",
        "\n",
        "\n",
        "Complete the lines # TODO below to finish the definition of this network."
      ]
    },
    {
      "cell_type": "code",
      "execution_count": 49,
      "metadata": {
        "id": "L_bs8O3lhB7m"
      },
      "outputs": [],
      "source": [
        "class DeepDNA(nn.Module):\n",
        "    def __init__(self, sequence_length):\n",
        "        \"\"\"\n",
        "        Parameters\n",
        "        -----------\n",
        "        sequence_length: int\n",
        "        num_class: int\n",
        "\n",
        "        \"\"\"\n",
        "        super(DeepDNA, self).__init__()\n",
        "\n",
        "        self.conv1 = nn.Conv1d(in_channels=4, out_channels=16, kernel_size=3)\n",
        "        self.conv2 = nn.Conv1d(in_channels=16, out_channels=32, kernel_size=3)\n",
        "        self.conv3 = nn.Conv1d(in_channels=32, out_channels=64, kernel_size=3)\n",
        "\n",
        "        sequence_length = sequence_length - 3 + 1\n",
        "        sequence_length = sequence_length - 3 + 1\n",
        "        sequence_length = sequence_length - 3 + 1\n",
        "\n",
        "        self.lin1 = nn.Linear(sequence_length * 64, 32)\n",
        "        self.lin2 = nn.Linear(32, 1)\n",
        "\n",
        "    def forward(self, x):\n",
        "        x = F.relu(self.conv1(x))\n",
        "        x = F.relu(self.conv2(x))\n",
        "        x = F.relu(self.conv3(x))\n",
        "\n",
        "        x = x.view(x.size(0), -1)\n",
        "\n",
        "        x = F.relu(self.lin1(x))\n",
        "        x = self.lin2(x)\n",
        "        x = torch.sigmoid(x)\n",
        "\n",
        "        return x\n"
      ]
    },
    {
      "cell_type": "markdown",
      "metadata": {
        "id": "HVbFqM4laclu"
      },
      "source": [
        "# Ex 7 Test the model\n",
        "\n",
        "\n",
        "1. Create an instance of the DeepDNA class named **net**.\n",
        "\n",
        "2. Print out the variable **net** to see detailed information about the model.\n",
        "\n",
        "3. Pass **dna_seg** below to **net** in order to  test if your model **net** works well.\n",
        "\n",
        "4. What is the size of the output ?\n",
        "\n"
      ]
    },
    {
      "cell_type": "code",
      "execution_count": 50,
      "metadata": {
        "id": "ladQCir7btvX"
      },
      "outputs": [],
      "source": [
        "## 1.\n",
        "net = DeepDNA(sequence_length=101)"
      ]
    },
    {
      "cell_type": "code",
      "execution_count": 51,
      "metadata": {
        "colab": {
          "base_uri": "https://localhost:8080/"
        },
        "id": "RFzp7DbtlTwG",
        "outputId": "bb094dfa-2d84-41fb-be3b-07f6feeb9014"
      },
      "outputs": [
        {
          "data": {
            "text/plain": [
              "DeepDNA(\n",
              "  (conv1): Conv1d(4, 16, kernel_size=(3,), stride=(1,))\n",
              "  (conv2): Conv1d(16, 32, kernel_size=(3,), stride=(1,))\n",
              "  (conv3): Conv1d(32, 64, kernel_size=(3,), stride=(1,))\n",
              "  (lin1): Linear(in_features=6080, out_features=32, bias=True)\n",
              "  (lin2): Linear(in_features=32, out_features=1, bias=True)\n",
              ")"
            ]
          },
          "execution_count": 51,
          "metadata": {},
          "output_type": "execute_result"
        }
      ],
      "source": [
        "## 2.\n",
        "net"
      ]
    },
    {
      "cell_type": "code",
      "execution_count": 54,
      "metadata": {
        "colab": {
          "base_uri": "https://localhost:8080/"
        },
        "id": "scFin6qzqBXd",
        "outputId": "230dec3e-4af5-4e11-9f70-5df43d169e6e"
      },
      "outputs": [
        {
          "name": "stdout",
          "output_type": "stream",
          "text": [
            "tensor([[0.4931]], grad_fn=<SigmoidBackward0>)\n"
          ]
        }
      ],
      "source": [
        "## 3.\n",
        "\n",
        "net.eval()\n",
        "output = net(dna_seg)\n",
        "print(output)\n"
      ]
    },
    {
      "cell_type": "code",
      "execution_count": 55,
      "metadata": {
        "colab": {
          "base_uri": "https://localhost:8080/"
        },
        "id": "mpPkX7HLqCc-",
        "outputId": "5024b998-2dbf-40cd-c72a-ee78e62feef3"
      },
      "outputs": [
        {
          "data": {
            "text/plain": [
              "torch.Size([1, 1])"
            ]
          },
          "execution_count": 55,
          "metadata": {},
          "output_type": "execute_result"
        }
      ],
      "source": [
        "## 4.\n",
        "output.size()"
      ]
    },
    {
      "cell_type": "markdown",
      "metadata": {
        "id": "yypmG11hr_so"
      },
      "source": [
        "# Ex 8: Define loss function and optimizer\n",
        "\n",
        "\n",
        "1. Define an SGD optimizer for the model. You need to choose the learning rate for your model.\n",
        "\n",
        "2. Define a Binary Cross Entropy (BCE) Loss  function.\n"
      ]
    },
    {
      "cell_type": "code",
      "execution_count": 56,
      "metadata": {
        "id": "uZwQKSrxh1A_"
      },
      "outputs": [],
      "source": [
        "## 1.\n",
        "optimizer = optim.SGD(net.parameters(), lr=0.01)\n",
        "\n",
        "## 2.\n",
        "criterion = nn.BCELoss()\n"
      ]
    },
    {
      "cell_type": "markdown",
      "metadata": {
        "id": "7rEjVjhetI6A"
      },
      "source": [
        "# Ex 9: Training your model\n",
        "\n",
        "The following function allows to train the model for one epoch. This function returns total loss per epoch.\n",
        "Implement the training pass for this function.\n",
        "\n",
        "\n",
        "\n",
        "The general process with PyTorch for one learning step consits of several steps:\n",
        "\n",
        "1. Make a forward pass through the network\n",
        "2. Use the network output to calculate the loss\n",
        "3. Perform a backward pass through the network with loss.backward() to calculate the gradients\n",
        "4. Take a step with the optimizer to update the weights\n",
        "\n"
      ]
    },
    {
      "cell_type": "code",
      "execution_count": 57,
      "metadata": {
        "id": "oAil9eU9iNCf"
      },
      "outputs": [],
      "source": [
        "def train_one_epoch(model, train_loader, criterion, optimizer):\n",
        "    model.train()\n",
        "    total_loss = 0.0\n",
        "\n",
        "    for batch in train_loader:\n",
        "        dna = batch['DNA']\n",
        "        labels = batch['Class'].view(-1, 1)\n",
        "\n",
        "        optimizer.zero_grad()\n",
        "\n",
        "        outputs = model(dna)\n",
        "\n",
        "        loss = criterion(outputs, labels.float())\n",
        "\n",
        "        loss.backward()\n",
        "\n",
        "        optimizer.step()\n",
        "\n",
        "        total_loss += loss.item() * len(labels)\n",
        "\n",
        "    return total_loss / len(train_loader.dataset)"
      ]
    },
    {
      "cell_type": "markdown",
      "metadata": {
        "id": "Pz0VV2Oenftq"
      },
      "source": [
        "# Ex 11: Accuracy Calculation\n",
        "\n",
        "Write a function named **compute_num_correct_pred(y_prob, y_label)** that allows to compute the number of correct predictions. **y_prob** and **y_label** should be pytorch tensors.\n",
        "\n",
        "For example,\n",
        "y_prob = [[0.3],[0.4], [0.8], [0.7]].\n",
        "\n",
        "y = [[0], [1], [1], [0]].\n",
        "\n",
        "This function should return 2."
      ]
    },
    {
      "cell_type": "code",
      "execution_count": 58,
      "metadata": {
        "id": "iS3MjFaRFE7R"
      },
      "outputs": [],
      "source": [
        "def compute_num_correct_pred(y_prob, y_label):\n",
        "    y_pred = (y_prob > 0.5).float()\n",
        "    correct = (y_pred == y_label).float().sum()\n",
        "    return int(correct)\n"
      ]
    },
    {
      "cell_type": "code",
      "execution_count": 59,
      "metadata": {
        "colab": {
          "base_uri": "https://localhost:8080/"
        },
        "id": "pLBnFL3kFUU7",
        "outputId": "072081a1-c194-45e6-c9d4-e6e551957778"
      },
      "outputs": [
        {
          "name": "stdout",
          "output_type": "stream",
          "text": [
            "2\n"
          ]
        }
      ],
      "source": [
        "y_prob = torch.tensor([[0.3],[0.4], [0.8], [0.7]])\n",
        "y_label = torch.tensor([[0], [1], [1], [0]])\n",
        "\n",
        "num_correct = compute_num_correct_pred(y_prob, y_label)\n",
        "print(num_correct)"
      ]
    },
    {
      "cell_type": "markdown",
      "metadata": {
        "id": "3N_g4DA-vex8"
      },
      "source": [
        "\n",
        "The function below allows to calculate the accuracy of the model on dataset loader. Execute this function to see if you implemented the compute_num_correct_pred function correctly."
      ]
    },
    {
      "cell_type": "code",
      "execution_count": 60,
      "metadata": {
        "id": "FY9V2-NCvv25"
      },
      "outputs": [],
      "source": [
        "def test(loader):\n",
        "  net.eval()\n",
        "\n",
        "  correct = 0\n",
        "  with torch.no_grad():\n",
        "    for data in loader:\n",
        "      dna = data['DNA']\n",
        "      y = data['Class']\n",
        "\n",
        "      out = net(dna)\n",
        "      correct += compute_num_correct_pred(out, y)\n",
        "\n",
        "  return correct / len(loader.dataset)"
      ]
    },
    {
      "cell_type": "code",
      "execution_count": 61,
      "metadata": {
        "colab": {
          "base_uri": "https://localhost:8080/"
        },
        "id": "S_P6eMx2F1ca",
        "outputId": "378a0951-ec14-4c2e-fe5a-c663e127b2da"
      },
      "outputs": [
        {
          "name": "stdout",
          "output_type": "stream",
          "text": [
            "Model Accuracy: 75.00%\n"
          ]
        }
      ],
      "source": [
        "accuracy = test(train_loader)\n",
        "print(f'Model Accuracy: {accuracy * 100:.2f}%')\n"
      ]
    },
    {
      "cell_type": "markdown",
      "metadata": {
        "id": "I0vTKeeQ3wGb"
      },
      "source": [
        "# Ex 12: Training the model\n",
        "\n",
        "Write code to train your model on 10 epoches to see if everything is going well and then you can try to add more epoches.\n"
      ]
    },
    {
      "cell_type": "code",
      "execution_count": 63,
      "metadata": {
        "colab": {
          "base_uri": "https://localhost:8080/"
        },
        "id": "K-vkWpKLixGE",
        "outputId": "d727b7b7-2e69-4d4d-9f15-91cc6f4524f7"
      },
      "outputs": [
        {
          "name": "stdout",
          "output_type": "stream",
          "text": [
            "Epoch 1, Loss: 0.5622009945242372\n",
            "Epoch 2, Loss: 0.5620906377491885\n",
            "Epoch 3, Loss: 0.5620529994572678\n",
            "Epoch 4, Loss: 0.5620074623251614\n",
            "Epoch 5, Loss: 0.5618845428505989\n",
            "Epoch 6, Loss: 0.5617431930891456\n",
            "Epoch 7, Loss: 0.5616438878725653\n",
            "Epoch 8, Loss: 0.5617379050140512\n",
            "Epoch 9, Loss: 0.5616473761731631\n",
            "Epoch 10, Loss: 0.5613775635010576\n",
            "Epoch 11, Loss: 0.5616073937040486\n",
            "Epoch 12, Loss: 0.561491218739993\n",
            "Epoch 13, Loss: 0.5613152203086305\n",
            "Epoch 14, Loss: 0.5611190951033814\n",
            "Epoch 15, Loss: 0.5612935919875968\n",
            "Epoch 16, Loss: 0.5609696850384751\n",
            "Epoch 17, Loss: 0.5609965320319346\n",
            "Epoch 18, Loss: 0.5608710277162187\n",
            "Epoch 19, Loss: 0.5605272883421755\n",
            "Epoch 20, Loss: 0.5604952169607763\n",
            "Epoch 21, Loss: 0.5603704246347898\n",
            "Epoch 22, Loss: 0.5603139674010342\n",
            "Epoch 23, Loss: 0.5602554595225477\n",
            "Epoch 24, Loss: 0.559782838372335\n",
            "Epoch 25, Loss: 0.5600566837477358\n",
            "Epoch 26, Loss: 0.5596389711311419\n",
            "Epoch 27, Loss: 0.5595628043560132\n",
            "Epoch 28, Loss: 0.5591008240637714\n",
            "Epoch 29, Loss: 0.5592591319590399\n",
            "Epoch 30, Loss: 0.5590711240082571\n",
            "Epoch 31, Loss: 0.5587975074575372\n",
            "Epoch 32, Loss: 0.5584062713466279\n",
            "Epoch 33, Loss: 0.5581322363386415\n",
            "Epoch 34, Loss: 0.5579164375181067\n",
            "Epoch 35, Loss: 0.5577508041711703\n",
            "Epoch 36, Loss: 0.557486719668728\n",
            "Epoch 37, Loss: 0.5571592131706133\n",
            "Epoch 38, Loss: 0.5569100886175077\n",
            "Epoch 39, Loss: 0.5560645726445603\n",
            "Epoch 40, Loss: 0.5561129724326199\n",
            "Epoch 41, Loss: 0.5560237234585905\n",
            "Epoch 42, Loss: 0.5555909541371751\n",
            "Epoch 43, Loss: 0.555108759501209\n",
            "Epoch 44, Loss: 0.554960600725592\n",
            "Epoch 45, Loss: 0.5544243242642651\n",
            "Epoch 46, Loss: 0.5540071542132391\n",
            "Epoch 47, Loss: 0.553676260456647\n",
            "Epoch 48, Loss: 0.5530840272772802\n",
            "Epoch 49, Loss: 0.55143611296399\n",
            "Epoch 50, Loss: 0.5524055606698337\n",
            "Epoch 51, Loss: 0.5516513557466742\n",
            "Epoch 52, Loss: 0.5512726892755456\n",
            "Epoch 53, Loss: 0.5505651880617011\n",
            "Epoch 54, Loss: 0.5498870237641138\n",
            "Epoch 55, Loss: 0.5495090560145575\n",
            "Epoch 56, Loss: 0.5491220561200625\n",
            "Epoch 57, Loss: 0.5486491285774806\n",
            "Epoch 58, Loss: 0.5474033543508346\n",
            "Epoch 59, Loss: 0.5465295641389611\n",
            "Epoch 60, Loss: 0.5464741785640586\n",
            "Epoch 61, Loss: 0.5458883565582641\n",
            "Epoch 62, Loss: 0.5453504430104609\n",
            "Epoch 63, Loss: 0.5440764186316973\n",
            "Epoch 64, Loss: 0.5439657477075106\n",
            "Epoch 65, Loss: 0.5431071274901089\n",
            "Epoch 66, Loss: 0.5416962271683836\n",
            "Epoch 67, Loss: 0.542101631221706\n",
            "Epoch 68, Loss: 0.540758853701696\n",
            "Epoch 69, Loss: 0.5402619912199778\n",
            "Epoch 70, Loss: 0.5394589486595702\n",
            "Epoch 71, Loss: 0.5380841258862247\n",
            "Epoch 72, Loss: 0.5373640615646154\n",
            "Epoch 73, Loss: 0.5370711486225259\n",
            "Epoch 74, Loss: 0.5359725282616812\n",
            "Epoch 75, Loss: 0.5344838949098979\n",
            "Epoch 76, Loss: 0.534355929453079\n",
            "Epoch 77, Loss: 0.5331058106193803\n",
            "Epoch 78, Loss: 0.5329395851043806\n",
            "Epoch 79, Loss: 0.5318431529688509\n",
            "Epoch 80, Loss: 0.5312738267526235\n",
            "Epoch 81, Loss: 0.5305838513455979\n",
            "Epoch 82, Loss: 0.5295035104229026\n",
            "Epoch 83, Loss: 0.5281486488776664\n",
            "Epoch 84, Loss: 0.5282106630197944\n",
            "Epoch 85, Loss: 0.5268398288586368\n",
            "Epoch 86, Loss: 0.5263482232208121\n",
            "Epoch 87, Loss: 0.5249170775282873\n",
            "Epoch 88, Loss: 0.5236763911296244\n",
            "Epoch 89, Loss: 0.5233712441300693\n",
            "Epoch 90, Loss: 0.5224514977164465\n",
            "Epoch 91, Loss: 0.5211598162781702\n",
            "Epoch 92, Loss: 0.5201886896401235\n",
            "Epoch 93, Loss: 0.5196367981907439\n",
            "Epoch 94, Loss: 0.518994346056899\n",
            "Epoch 95, Loss: 0.5179727483693868\n",
            "Epoch 96, Loss: 0.5174383978321128\n",
            "Epoch 97, Loss: 0.5160197440075548\n",
            "Epoch 98, Loss: 0.514577619016987\n",
            "Epoch 99, Loss: 0.5136457555098076\n",
            "Epoch 100, Loss: 0.5118392575277041\n"
          ]
        }
      ],
      "source": [
        "num_epochs = 100\n",
        "\n",
        "for epoch in range(num_epochs):\n",
        "    epoch_loss = train_one_epoch(net, train_loader, criterion, optimizer)\n",
        "    print(f\"Epoch {epoch+1}, Loss: {epoch_loss}\")"
      ]
    },
    {
      "cell_type": "markdown",
      "metadata": {
        "id": "WX_FGbp4tV0Z"
      },
      "source": [
        "# Ex13 (optional)\n",
        "\n",
        "1. If we use torch.nn.BCEWithLogitsLoss(), what does we need to change to the definition of the model ?\n",
        "\n",
        "\n",
        "2. The same question for torch.nn.CrossEntropyLoss() loss.  "
      ]
    }
  ],
  "metadata": {
    "colab": {
      "provenance": []
    },
    "kernelspec": {
      "display_name": "Python 3",
      "name": "python3"
    },
    "language_info": {
      "name": "python"
    }
  },
  "nbformat": 4,
  "nbformat_minor": 0
}
